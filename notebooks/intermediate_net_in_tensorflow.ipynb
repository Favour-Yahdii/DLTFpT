{
 "cells": [
  {
   "cell_type": "markdown",
   "metadata": {},
   "source": [
    "# Intermediate Neural Network in TensorFlow"
   ]
  },
  {
   "cell_type": "markdown",
   "metadata": {},
   "source": [
    "In this notebook, we improve on our [introductory shallow net](https://github.com/jonkrohn/DLTFpT/blob/master/notebooks/shallow_net_in_tensorflow.ipynb) by incorporating the theory we've covered since."
   ]
  },
  {
   "cell_type": "markdown",
   "metadata": {},
   "source": [
    "[![Open In Colab](https://colab.research.google.com/assets/colab-badge.svg)](https://colab.research.google.com/github/jonkrohn/DLTFpT/blob/master/notebooks/intermediate_net_in_tensorflow.ipynb)"
   ]
  },
  {
   "cell_type": "markdown",
   "metadata": {},
   "source": [
    "#### Load dependencies"
   ]
  },
  {
   "cell_type": "code",
   "execution_count": 1,
   "metadata": {
    "scrolled": true
   },
   "outputs": [],
   "source": [
    "import tensorflow\n",
    "from tensorflow.keras.datasets import mnist\n",
    "from tensorflow.keras.utils import to_categorical\n",
    "from tensorflow.keras.models import Sequential\n",
    "from tensorflow.keras.layers import Dense\n",
    "from tensorflow.keras.optimizers import SGD\n",
    "from matplotlib import pyplot as plt"
   ]
  },
  {
   "cell_type": "markdown",
   "metadata": {},
   "source": [
    "#### Load data"
   ]
  },
  {
   "cell_type": "code",
   "execution_count": 2,
   "metadata": {
    "scrolled": true
   },
   "outputs": [],
   "source": [
    "(X_train, y_train), (X_valid, y_valid) = mnist.load_data()"
   ]
  },
  {
   "cell_type": "markdown",
   "metadata": {},
   "source": [
    "#### Preprocess data"
   ]
  },
  {
   "cell_type": "code",
   "execution_count": 3,
   "metadata": {},
   "outputs": [],
   "source": [
    "X_train = X_train.reshape(60000, 784).astype('float32')\n",
    "X_valid = X_valid.reshape(10000, 784).astype('float32')"
   ]
  },
  {
   "cell_type": "code",
   "execution_count": 4,
   "metadata": {},
   "outputs": [],
   "source": [
    "X_train /= 255\n",
    "X_valid /= 255"
   ]
  },
  {
   "cell_type": "code",
   "execution_count": 5,
   "metadata": {},
   "outputs": [],
   "source": [
    "n_classes = 10\n",
    "y_train = to_categorical(y_train, n_classes)\n",
    "y_valid = to_categorical(y_valid, n_classes)"
   ]
  },
  {
   "cell_type": "markdown",
   "metadata": {},
   "source": [
    "#### Design neural network architecture"
   ]
  },
  {
   "cell_type": "code",
   "execution_count": 6,
   "metadata": {},
   "outputs": [],
   "source": [
    "model = Sequential()\n",
    "model.add(Dense(64, activation='tanh', input_shape=(784,)))\n",
    "model.add(Dense(32, activation='tanh'))\n",
    "model.add(Dense(10, activation='softmax'))"
   ]
  },
  {
   "cell_type": "code",
   "execution_count": 7,
   "metadata": {},
   "outputs": [
    {
     "name": "stdout",
     "output_type": "stream",
     "text": [
      "Model: \"sequential\"\n",
      "_________________________________________________________________\n",
      " Layer (type)                Output Shape              Param #   \n",
      "=================================================================\n",
      " dense (Dense)               (None, 64)                50240     \n",
      "                                                                 \n",
      " dense_1 (Dense)             (None, 32)                2080      \n",
      "                                                                 \n",
      " dense_2 (Dense)             (None, 10)                330       \n",
      "                                                                 \n",
      "=================================================================\n",
      "Total params: 52650 (205.66 KB)\n",
      "Trainable params: 52650 (205.66 KB)\n",
      "Non-trainable params: 0 (0.00 Byte)\n",
      "_________________________________________________________________\n"
     ]
    }
   ],
   "source": [
    "model.summary()"
   ]
  },
  {
   "cell_type": "code",
   "execution_count": 10,
   "metadata": {},
   "outputs": [
    {
     "data": {
      "text/plain": [
       "2048"
      ]
     },
     "execution_count": 10,
     "metadata": {},
     "output_type": "execute_result"
    }
   ],
   "source": [
    "(32*64)"
   ]
  },
  {
   "cell_type": "code",
   "execution_count": 11,
   "metadata": {},
   "outputs": [
    {
     "data": {
      "text/plain": [
       "2080"
      ]
     },
     "execution_count": 11,
     "metadata": {},
     "output_type": "execute_result"
    }
   ],
   "source": [
    "(32*64)+32"
   ]
  },
  {
   "cell_type": "markdown",
   "metadata": {},
   "source": [
    "#### Configure model"
   ]
  },
  {
   "cell_type": "code",
   "execution_count": 14,
   "metadata": {},
   "outputs": [],
   "source": [
    "# N.B.: learning rate is order of magnitude quicker relative to shallow net\n",
    "model.compile(loss='categorical_crossentropy', optimizer=SGD(learning_rate=0.1), metrics=['accuracy'])"
   ]
  },
  {
   "cell_type": "markdown",
   "metadata": {},
   "source": [
    "#### Train!"
   ]
  },
  {
   "cell_type": "code",
   "execution_count": 21,
   "metadata": {},
   "outputs": [
    {
     "name": "stdout",
     "output_type": "stream",
     "text": [
      "Epoch 1/20\n",
      "469/469 [==============================] - 1s 2ms/step - loss: 6.5593e-04 - accuracy: 1.0000 - val_loss: 0.1169 - val_accuracy: 0.9754\n",
      "Epoch 2/20\n",
      "469/469 [==============================] - 1s 2ms/step - loss: 6.5166e-04 - accuracy: 1.0000 - val_loss: 0.1171 - val_accuracy: 0.9756\n",
      "Epoch 3/20\n",
      "469/469 [==============================] - 1s 2ms/step - loss: 6.4593e-04 - accuracy: 1.0000 - val_loss: 0.1168 - val_accuracy: 0.9754\n",
      "Epoch 4/20\n",
      "469/469 [==============================] - 1s 2ms/step - loss: 6.4233e-04 - accuracy: 1.0000 - val_loss: 0.1170 - val_accuracy: 0.9757\n",
      "Epoch 5/20\n",
      "469/469 [==============================] - 1s 2ms/step - loss: 6.3793e-04 - accuracy: 1.0000 - val_loss: 0.1170 - val_accuracy: 0.9755\n",
      "Epoch 6/20\n",
      "469/469 [==============================] - 1s 2ms/step - loss: 6.3433e-04 - accuracy: 1.0000 - val_loss: 0.1172 - val_accuracy: 0.9758\n",
      "Epoch 7/20\n",
      "469/469 [==============================] - 1s 2ms/step - loss: 6.2960e-04 - accuracy: 1.0000 - val_loss: 0.1173 - val_accuracy: 0.9753\n",
      "Epoch 8/20\n",
      "469/469 [==============================] - 1s 2ms/step - loss: 6.2427e-04 - accuracy: 1.0000 - val_loss: 0.1174 - val_accuracy: 0.9750\n",
      "Epoch 9/20\n",
      "469/469 [==============================] - 1s 2ms/step - loss: 6.2070e-04 - accuracy: 1.0000 - val_loss: 0.1173 - val_accuracy: 0.9752\n",
      "Epoch 10/20\n",
      "469/469 [==============================] - 1s 2ms/step - loss: 6.1622e-04 - accuracy: 1.0000 - val_loss: 0.1176 - val_accuracy: 0.9753\n",
      "Epoch 11/20\n",
      "469/469 [==============================] - 1s 2ms/step - loss: 6.1203e-04 - accuracy: 1.0000 - val_loss: 0.1177 - val_accuracy: 0.9757\n",
      "Epoch 12/20\n",
      "469/469 [==============================] - 1s 2ms/step - loss: 6.0833e-04 - accuracy: 1.0000 - val_loss: 0.1176 - val_accuracy: 0.9756\n",
      "Epoch 13/20\n",
      "469/469 [==============================] - 1s 2ms/step - loss: 6.0421e-04 - accuracy: 1.0000 - val_loss: 0.1177 - val_accuracy: 0.9754\n",
      "Epoch 14/20\n",
      "469/469 [==============================] - 1s 2ms/step - loss: 5.9978e-04 - accuracy: 1.0000 - val_loss: 0.1179 - val_accuracy: 0.9755\n",
      "Epoch 15/20\n",
      "469/469 [==============================] - 1s 2ms/step - loss: 5.9647e-04 - accuracy: 1.0000 - val_loss: 0.1176 - val_accuracy: 0.9757\n",
      "Epoch 16/20\n",
      "469/469 [==============================] - 1s 2ms/step - loss: 5.9292e-04 - accuracy: 1.0000 - val_loss: 0.1180 - val_accuracy: 0.9753\n",
      "Epoch 17/20\n",
      "469/469 [==============================] - 1s 2ms/step - loss: 5.8900e-04 - accuracy: 1.0000 - val_loss: 0.1180 - val_accuracy: 0.9754\n",
      "Epoch 18/20\n",
      "469/469 [==============================] - 1s 2ms/step - loss: 5.8380e-04 - accuracy: 1.0000 - val_loss: 0.1182 - val_accuracy: 0.9751\n",
      "Epoch 19/20\n",
      "469/469 [==============================] - 1s 2ms/step - loss: 5.8016e-04 - accuracy: 1.0000 - val_loss: 0.1181 - val_accuracy: 0.9752\n",
      "Epoch 20/20\n",
      "469/469 [==============================] - 1s 2ms/step - loss: 5.7681e-04 - accuracy: 1.0000 - val_loss: 0.1185 - val_accuracy: 0.9756\n"
     ]
    },
    {
     "data": {
      "text/plain": [
       "<keras.src.callbacks.History at 0x204f5010850>"
      ]
     },
     "execution_count": 21,
     "metadata": {},
     "output_type": "execute_result"
    }
   ],
   "source": [
    "# N.B.: number of epochs is order of magnitude smaller relative to shallow net\n",
    "model.fit(X_train, y_train, batch_size=128, epochs=20, verbose=1, validation_data=(X_valid, y_valid))"
   ]
  },
  {
   "cell_type": "markdown",
   "metadata": {},
   "source": [
    "#### Performing inference"
   ]
  },
  {
   "cell_type": "code",
   "execution_count": 22,
   "metadata": {},
   "outputs": [
    {
     "name": "stdout",
     "output_type": "stream",
     "text": [
      "313/313 [==============================] - 0s 1ms/step - loss: 0.1185 - accuracy: 0.9756\n"
     ]
    },
    {
     "data": {
      "text/plain": [
       "[0.11847282946109772, 0.975600004196167]"
      ]
     },
     "execution_count": 22,
     "metadata": {},
     "output_type": "execute_result"
    }
   ],
   "source": [
    "model.evaluate(X_valid, y_valid)"
   ]
  },
  {
   "cell_type": "code",
   "execution_count": 17,
   "metadata": {},
   "outputs": [],
   "source": [
    "valid_0 = X_valid[0].reshape(1, 784)"
   ]
  },
  {
   "cell_type": "code",
   "execution_count": 18,
   "metadata": {},
   "outputs": [
    {
     "name": "stdout",
     "output_type": "stream",
     "text": [
      "1/1 [==============================] - 0s 93ms/step\n"
     ]
    },
    {
     "data": {
      "text/plain": [
       "array([[1.7101898e-10, 7.2965972e-10, 3.9439702e-12, 1.7402812e-07,\n",
       "        2.7877109e-11, 4.4111401e-10, 2.3514187e-14, 9.9999976e-01,\n",
       "        5.8021369e-11, 1.0705213e-07]], dtype=float32)"
      ]
     },
     "execution_count": 18,
     "metadata": {},
     "output_type": "execute_result"
    }
   ],
   "source": [
    "model.predict(valid_0)"
   ]
  },
  {
   "cell_type": "code",
   "execution_count": 20,
   "metadata": {},
   "outputs": [
    {
     "ename": "AttributeError",
     "evalue": "'Sequential' object has no attribute 'predict_classes'",
     "output_type": "error",
     "traceback": [
      "\u001b[1;31m---------------------------------------------------------------------------\u001b[0m",
      "\u001b[1;31mAttributeError\u001b[0m                            Traceback (most recent call last)",
      "Cell \u001b[1;32mIn[20], line 1\u001b[0m\n\u001b[1;32m----> 1\u001b[0m model\u001b[38;5;241m.\u001b[39mpredict_classes(valid_0)\n",
      "\u001b[1;31mAttributeError\u001b[0m: 'Sequential' object has no attribute 'predict_classes'"
     ]
    }
   ],
   "source": [
    "model.predict_classes(valid_0)"
   ]
  },
  {
   "cell_type": "code",
   "execution_count": null,
   "metadata": {},
   "outputs": [],
   "source": []
  }
 ],
 "metadata": {
  "kernelspec": {
   "display_name": "Python 3",
   "language": "python",
   "name": "python3"
  },
  "language_info": {
   "codemirror_mode": {
    "name": "ipython",
    "version": 3
   },
   "file_extension": ".py",
   "mimetype": "text/x-python",
   "name": "python",
   "nbconvert_exporter": "python",
   "pygments_lexer": "ipython3",
   "version": "3.7.3"
  }
 },
 "nbformat": 4,
 "nbformat_minor": 2
}
