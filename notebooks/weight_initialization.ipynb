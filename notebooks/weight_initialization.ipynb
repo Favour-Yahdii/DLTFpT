{
 "cells": [
  {
   "cell_type": "markdown",
   "metadata": {},
   "source": [
    "# Weight Initialization"
   ]
  },
  {
   "cell_type": "markdown",
   "metadata": {},
   "source": [
    "In this notebook, we experiment with weight initialization approaches to examine their impact on layer outputs."
   ]
  },
  {
   "cell_type": "markdown",
   "metadata": {},
   "source": [
    "[![Open In Colab](https://colab.research.google.com/assets/colab-badge.svg)](https://colab.research.google.com/github/jonkrohn/DLTFpT/blob/master/notebooks/weight_initialization.ipynb)"
   ]
  },
  {
   "cell_type": "markdown",
   "metadata": {},
   "source": [
    "#### Load dependencies"
   ]
  },
  {
   "cell_type": "code",
   "execution_count": 1,
   "metadata": {},
   "outputs": [],
   "source": [
    "import numpy as np\n",
    "import matplotlib.pyplot as plt\n",
    "\n",
    "from tensorflow.keras import Sequential\n",
    "from tensorflow.keras.layers import Dense, Activation\n",
    "from tensorflow.keras.initializers import Zeros, RandomNormal, glorot_normal, glorot_uniform"
   ]
  },
  {
   "cell_type": "markdown",
   "metadata": {},
   "source": [
    "#### Set number of neurons"
   ]
  },
  {
   "cell_type": "code",
   "execution_count": 2,
   "metadata": {},
   "outputs": [],
   "source": [
    "n_input = 784\n",
    "n_dense = 256"
   ]
  },
  {
   "cell_type": "markdown",
   "metadata": {},
   "source": [
    "#### Select a bias initializer"
   ]
  },
  {
   "cell_type": "code",
   "execution_count": 3,
   "metadata": {},
   "outputs": [],
   "source": [
    "b_init = Zeros()"
   ]
  },
  {
   "cell_type": "markdown",
   "metadata": {},
   "source": [
    "#### Select a weight initializer"
   ]
  },
  {
   "cell_type": "code",
   "execution_count": 5,
   "metadata": {},
   "outputs": [],
   "source": [
    "w_init = RandomNormal(stddev=1.0)\n",
    "# w_init = glorot_normal()\n",
    "# w_init = glorot_uniform()"
   ]
  },
  {
   "cell_type": "markdown",
   "metadata": {},
   "source": [
    "#### Design neural network architecture"
   ]
  },
  {
   "cell_type": "code",
   "execution_count": 6,
   "metadata": {},
   "outputs": [],
   "source": [
    "model = Sequential()\n",
    "model.add(Dense(n_dense, \n",
    "                input_dim=n_input,\n",
    "                kernel_initializer=w_init,\n",
    "                bias_initializer=b_init))\n",
    "model.add(Activation('sigmoid'))\n",
    "# model.add(Activation('tanh'))\n",
    "# model.add(Activation('relu'))"
   ]
  },
  {
   "cell_type": "markdown",
   "metadata": {},
   "source": [
    "#### Generate random *x* values"
   ]
  },
  {
   "cell_type": "code",
   "execution_count": 7,
   "metadata": {},
   "outputs": [],
   "source": [
    "x = np.random.random((1,n_input))"
   ]
  },
  {
   "cell_type": "markdown",
   "metadata": {},
   "source": [
    "#### Forward propagate through the network"
   ]
  },
  {
   "cell_type": "code",
   "execution_count": 8,
   "metadata": {},
   "outputs": [
    {
     "name": "stdout",
     "output_type": "stream",
     "text": [
      "1/1 [==============================] - 0s 114ms/step\n"
     ]
    }
   ],
   "source": [
    "a = model.predict(x)"
   ]
  },
  {
   "cell_type": "code",
   "execution_count": 9,
   "metadata": {},
   "outputs": [
    {
     "data": {
      "text/plain": [
       "array([[6.96529076e-02, 1.00000000e+00, 1.09114905e-10, 9.99999702e-01,\n",
       "        1.00000000e+00, 1.00000000e+00, 1.58268929e-01, 1.00000000e+00,\n",
       "        9.99999881e-01, 1.15807841e-09, 1.10569399e-05, 8.79486652e-06,\n",
       "        3.29033911e-01, 3.02848686e-02, 1.73484252e-04, 5.32591082e-09,\n",
       "        9.98205185e-01, 9.98606443e-01, 9.07890201e-01, 1.93543006e-02,\n",
       "        9.99999523e-01, 9.96222019e-01, 9.98486936e-01, 9.99996901e-01,\n",
       "        9.99902248e-01, 1.00000000e+00, 9.99996603e-01, 9.99999940e-01,\n",
       "        2.68953272e-06, 1.00000000e+00, 1.64075638e-03, 8.22150207e-04,\n",
       "        4.57613891e-10, 1.00000000e+00, 9.99770045e-01, 1.00000000e+00,\n",
       "        3.51059235e-08, 9.64576185e-01, 3.87914330e-02, 2.56486544e-07,\n",
       "        1.00000000e+00, 9.99999881e-01, 2.29668066e-01, 3.47026018e-03,\n",
       "        9.99989867e-01, 6.46484750e-07, 9.99851465e-01, 3.30005332e-06,\n",
       "        7.90415052e-03, 9.94013727e-01, 1.33547022e-08, 7.47152953e-05,\n",
       "        7.25233622e-05, 6.20100740e-03, 4.52008862e-06, 2.16813696e-08,\n",
       "        9.88031271e-12, 6.26689499e-12, 3.73216183e-03, 9.99999940e-01,\n",
       "        9.47620511e-01, 6.27553106e-07, 9.99999881e-01, 2.63005178e-02,\n",
       "        1.00000000e+00, 9.99986410e-01, 9.99999881e-01, 9.90031600e-01,\n",
       "        9.99879658e-01, 9.81061935e-01, 8.34797084e-01, 9.81931329e-01,\n",
       "        8.99950683e-01, 3.75661679e-04, 9.18287277e-01, 8.66265735e-04,\n",
       "        9.89855051e-01, 9.99153256e-01, 1.68179710e-08, 9.40061291e-05,\n",
       "        9.99979973e-01, 1.74016357e-09, 1.00000000e+00, 9.99988437e-01,\n",
       "        2.49013938e-02, 1.01573658e-14, 3.10350567e-01, 1.11602098e-02,\n",
       "        1.00000000e+00, 4.52657503e-08, 3.35094708e-09, 4.67879235e-10,\n",
       "        9.99999523e-01, 1.00000000e+00, 9.99999881e-01, 4.96936491e-06,\n",
       "        1.84496623e-02, 5.89460194e-01, 7.53514469e-01, 9.99999881e-01,\n",
       "        2.67342906e-02, 1.00000000e+00, 9.99443889e-01, 1.00000000e+00,\n",
       "        9.99882102e-01, 9.97106791e-01, 1.17701959e-10, 9.99999881e-01,\n",
       "        1.70561577e-07, 1.00000000e+00, 9.90634322e-01, 2.72211582e-06,\n",
       "        8.24552408e-05, 8.39631259e-01, 1.00000000e+00, 9.99999762e-01,\n",
       "        5.61055922e-13, 9.99994516e-01, 1.38156547e-05, 9.97381091e-01,\n",
       "        9.99957323e-01, 1.60869598e-01, 1.00170134e-03, 4.42719040e-03,\n",
       "        9.99999106e-01, 9.99999642e-01, 1.00000000e+00, 8.45835805e-01,\n",
       "        1.00000000e+00, 5.92837632e-01, 9.99986768e-01, 9.87961113e-01,\n",
       "        9.99998331e-01, 3.08743928e-08, 9.99999940e-01, 1.00000000e+00,\n",
       "        3.41036350e-01, 3.27535294e-04, 9.98728633e-01, 9.99451876e-01,\n",
       "        1.00000000e+00, 2.18875371e-02, 4.94165599e-01, 9.99999881e-01,\n",
       "        9.99389350e-01, 4.93139436e-04, 6.62557364e-01, 6.19738635e-14,\n",
       "        1.00000000e+00, 7.01911677e-06, 9.99670446e-01, 8.23818576e-22,\n",
       "        5.53652901e-09, 7.64251809e-07, 2.84033595e-03, 9.97961462e-01,\n",
       "        4.23240885e-02, 1.00000000e+00, 2.06020341e-05, 1.38873103e-04,\n",
       "        9.85545099e-01, 9.99999940e-01, 2.01465455e-10, 3.34997615e-03,\n",
       "        2.48402212e-05, 6.67336524e-01, 6.28933834e-04, 5.25271959e-09,\n",
       "        3.23650986e-02, 8.29552531e-01, 9.49076653e-01, 3.46283981e-04,\n",
       "        7.77016521e-01, 9.99969006e-01, 1.00000000e+00, 1.00000000e+00,\n",
       "        7.77406694e-06, 9.99996722e-01, 1.23472326e-03, 3.02750384e-03,\n",
       "        3.81096802e-03, 1.00000000e+00, 5.45728439e-03, 9.99999762e-01,\n",
       "        6.23575147e-08, 1.67638215e-03, 8.74092758e-01, 3.27355592e-05,\n",
       "        3.90486862e-12, 8.49583030e-01, 1.03100538e-05, 9.99994636e-01,\n",
       "        1.00000000e+00, 2.69258726e-09, 9.86053407e-01, 5.88184926e-12,\n",
       "        9.97713208e-01, 9.56886751e-14, 9.99856889e-01, 2.78762909e-05,\n",
       "        1.73345484e-06, 1.00000000e+00, 2.79302197e-03, 9.98933256e-01,\n",
       "        1.00000000e+00, 9.99987125e-01, 7.70762086e-01, 7.53314816e-04,\n",
       "        1.00000000e+00, 1.54769703e-04, 3.49960963e-11, 9.99980032e-01,\n",
       "        2.45685969e-03, 9.91544068e-01, 9.99927223e-01, 9.99995947e-01,\n",
       "        9.99420285e-01, 9.99999940e-01, 1.00000000e+00, 9.98624623e-01,\n",
       "        1.00000000e+00, 9.99994516e-01, 1.00000000e+00, 2.66831875e-01,\n",
       "        7.44216740e-01, 9.99865472e-01, 1.48900076e-12, 9.61868465e-01,\n",
       "        9.57293063e-02, 3.97730293e-03, 9.99999940e-01, 6.38243973e-01,\n",
       "        1.00000000e+00, 5.66878072e-11, 9.24657524e-01, 1.00000000e+00,\n",
       "        9.99999404e-01, 9.99891877e-01, 7.52658248e-01, 4.28622176e-16,\n",
       "        9.99952734e-01, 9.10999054e-11, 1.51741675e-11, 8.18682602e-04,\n",
       "        9.99985456e-01, 9.99531746e-01, 3.42118391e-03, 9.99865711e-01,\n",
       "        9.76371765e-03, 9.99720395e-01, 1.54424203e-13, 9.99999821e-01,\n",
       "        7.21070886e-01, 9.99997258e-01, 9.99928832e-01, 4.87041892e-04]],\n",
       "      dtype=float32)"
      ]
     },
     "execution_count": 9,
     "metadata": {},
     "output_type": "execute_result"
    }
   ],
   "source": [
    "a"
   ]
  },
  {
   "cell_type": "code",
   "execution_count": 10,
   "metadata": {},
   "outputs": [
    {
     "data": {
      "image/png": "[encoded data removed]",
      "text/plain": [
       "<Figure size 640x480 with 1 Axes>"
      ]
     },
     "metadata": {},
     "output_type": "display_data"
    }
   ],
   "source": [
    "_ = plt.hist(np.transpose(a))"
   ]
  },
  {
   "cell_type": "code",
   "execution_count": null,
   "metadata": {},
   "outputs": [],
   "source": []
  }
 ],
 "metadata": {
  "kernelspec": {
   "display_name": "Python 3",
   "language": "python",
   "name": "python3"
  },
  "language_info": {
   "codemirror_mode": {
    "name": "ipython",
    "version": 3
   },
   "file_extension": ".py",
   "mimetype": "text/x-python",
   "name": "python",
   "nbconvert_exporter": "python",
   "pygments_lexer": "ipython3",
   "version": "3.11.5"
  }
 },
 "nbformat": 4,
 "nbformat_minor": 2
}
