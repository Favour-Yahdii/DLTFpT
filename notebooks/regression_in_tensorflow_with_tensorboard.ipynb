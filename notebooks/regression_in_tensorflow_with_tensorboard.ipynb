{
 "cells": [
  {
   "cell_type": "markdown",
   "metadata": {},
   "source": [
    "# Regression Example in TensorFlow (with TensorBoard)\n",
    "Predicting house prices in Boston, Massachusetts while logging results for TensorBoard"
   ]
  },
  {
   "cell_type": "markdown",
   "metadata": {},
   "source": [
    "[![Open In Colab](https://colab.research.google.com/assets/colab-badge.svg)](https://colab.research.google.com/github/jonkrohn/DLTFpT/blob/master/notebooks/regression_in_tensorflow_with_tensorboard.ipynb)"
   ]
  },
  {
   "cell_type": "markdown",
   "metadata": {},
   "source": [
    "#### Load dependencies"
   ]
  },
  {
   "cell_type": "code",
   "execution_count": 1,
   "metadata": {},
   "outputs": [],
   "source": [
    "import numpy as np\n",
    "import tensorflow as tf\n",
    "from tensorflow.keras.datasets import boston_housing \n",
    "from tensorflow.keras.models import Sequential\n",
    "from tensorflow.keras.layers import Dense, Dropout \n",
    "from tensorflow.keras.layers import BatchNormalization \n",
    "from tensorflow.keras.callbacks import ModelCheckpoint \n",
    "from tensorflow.keras.callbacks import TensorBoard # new!  \n",
    "import os "
   ]
  },
  {
   "cell_type": "markdown",
   "metadata": {},
   "source": [
    "#### Load data"
   ]
  },
  {
   "cell_type": "code",
   "execution_count": 2,
   "metadata": {},
   "outputs": [],
   "source": [
    "(X_train, y_train), (X_valid, y_valid) = boston_housing.load_data()"
   ]
  },
  {
   "cell_type": "code",
   "execution_count": 3,
   "metadata": {},
   "outputs": [
    {
     "data": {
      "text/plain": [
       "(404, 13)"
      ]
     },
     "execution_count": 3,
     "metadata": {},
     "output_type": "execute_result"
    }
   ],
   "source": [
    "X_train.shape"
   ]
  },
  {
   "cell_type": "code",
   "execution_count": 4,
   "metadata": {},
   "outputs": [
    {
     "data": {
      "text/plain": [
       "(102, 13)"
      ]
     },
     "execution_count": 4,
     "metadata": {},
     "output_type": "execute_result"
    }
   ],
   "source": [
    "X_valid.shape"
   ]
  },
  {
   "cell_type": "code",
   "execution_count": 5,
   "metadata": {},
   "outputs": [
    {
     "data": {
      "text/plain": [
       "array([  1.23247,   0.     ,   8.14   ,   0.     ,   0.538  ,   6.142  ,\n",
       "        91.7    ,   3.9769 ,   4.     , 307.     ,  21.     , 396.9    ,\n",
       "        18.72   ])"
      ]
     },
     "execution_count": 5,
     "metadata": {},
     "output_type": "execute_result"
    }
   ],
   "source": [
    "X_train[0]"
   ]
  },
  {
   "cell_type": "code",
   "execution_count": 6,
   "metadata": {},
   "outputs": [
    {
     "data": {
      "text/plain": [
       "15.2"
      ]
     },
     "execution_count": 6,
     "metadata": {},
     "output_type": "execute_result"
    }
   ],
   "source": [
    "y_train[0]"
   ]
  },
  {
   "cell_type": "markdown",
   "metadata": {},
   "source": [
    "#### Design neural network architecture"
   ]
  },
  {
   "cell_type": "code",
   "execution_count": 7,
   "metadata": {},
   "outputs": [],
   "source": [
    "model = Sequential()\n",
    "\n",
    "model.add(Dense(32, input_dim=13, activation='relu'))\n",
    "model.add(BatchNormalization())\n",
    "\n",
    "model.add(Dense(16, activation='relu'))\n",
    "model.add(BatchNormalization())\n",
    "model.add(Dropout(0.5))\n",
    "\n",
    "model.add(Dense(1, activation='linear')) #linear because we are predicting a continuous variable"
   ]
  },
  {
   "cell_type": "code",
   "execution_count": 8,
   "metadata": {},
   "outputs": [
    {
     "name": "stdout",
     "output_type": "stream",
     "text": [
      "Model: \"sequential\"\n",
      "_________________________________________________________________\n",
      " Layer (type)                Output Shape              Param #   \n",
      "=================================================================\n",
      " dense (Dense)               (None, 32)                448       \n",
      "                                                                 \n",
      " batch_normalization (Batch  (None, 32)                128       \n",
      " Normalization)                                                  \n",
      "                                                                 \n",
      " dense_1 (Dense)             (None, 16)                528       \n",
      "                                                                 \n",
      " batch_normalization_1 (Bat  (None, 16)                64        \n",
      " chNormalization)                                                \n",
      "                                                                 \n",
      " dropout (Dropout)           (None, 16)                0         \n",
      "                                                                 \n",
      " dense_2 (Dense)             (None, 1)                 17        \n",
      "                                                                 \n",
      "=================================================================\n",
      "Total params: 1185 (4.63 KB)\n",
      "Trainable params: 1089 (4.25 KB)\n",
      "Non-trainable params: 96 (384.00 Byte)\n",
      "_________________________________________________________________\n"
     ]
    }
   ],
   "source": [
    "model.summary()"
   ]
  },
  {
   "cell_type": "markdown",
   "metadata": {},
   "source": [
    "#### Configure Model"
   ]
  },
  {
   "cell_type": "code",
   "execution_count": 9,
   "metadata": {},
   "outputs": [],
   "source": [
    "model.compile(loss='mean_squared_error', optimizer='adam', )"
   ]
  },
  {
   "cell_type": "code",
   "execution_count": 10,
   "metadata": {},
   "outputs": [],
   "source": [
    "output_dir = 'model_output/'"
   ]
  },
  {
   "cell_type": "code",
   "execution_count": 11,
   "metadata": {},
   "outputs": [],
   "source": [
    "run_name = 'regression_50'\n",
    "output_path = output_dir + run_name"
   ]
  },
  {
   "cell_type": "code",
   "execution_count": 12,
   "metadata": {},
   "outputs": [],
   "source": [
    "if not os.path.exists(output_path):\n",
    "    os.makedirs(output_path)"
   ]
  },
  {
   "cell_type": "code",
   "execution_count": 13,
   "metadata": {},
   "outputs": [],
   "source": [
    "modelcheckpoint = ModelCheckpoint(output_path + '/weights.{epoch:02d}.hdf5', # decimal integers\n",
    "                                  save_weights_only=True) # otherwise full model is saved"
   ]
  },
  {
   "cell_type": "code",
   "execution_count": 14,
   "metadata": {},
   "outputs": [
    {
     "ename": "AttributeError",
     "evalue": "module 'tensorboard.summary._tf.summary' has no attribute 'FileWriter'",
     "output_type": "error",
     "traceback": [
      "\u001b[1;31m---------------------------------------------------------------------------\u001b[0m",
      "\u001b[1;31mAttributeError\u001b[0m                            Traceback (most recent call last)",
      "Cell \u001b[1;32mIn[14], line 4\u001b[0m\n\u001b[0;32m      1\u001b[0m tensorboard \u001b[38;5;241m=\u001b[39m TensorBoard(log_dir\u001b[38;5;241m=\u001b[39m\u001b[38;5;124m'\u001b[39m\u001b[38;5;124mlogs/\u001b[39m\u001b[38;5;124m'\u001b[39m \u001b[38;5;241m+\u001b[39m run_name)\n\u001b[0;32m      2\u001b[0m \u001b[38;5;66;03m# sess.graph contains the graph definition; that enables the Graph Visualizer.\u001b[39;00m\n\u001b[1;32m----> 4\u001b[0m file_writer \u001b[38;5;241m=\u001b[39m tf\u001b[38;5;241m.\u001b[39msummary\u001b[38;5;241m.\u001b[39mFileWriter(\u001b[38;5;124m'\u001b[39m\u001b[38;5;124mlogs/\u001b[39m\u001b[38;5;124m'\u001b[39m, sess\u001b[38;5;241m.\u001b[39mgraph)\n",
      "\u001b[1;31mAttributeError\u001b[0m: module 'tensorboard.summary._tf.summary' has no attribute 'FileWriter'"
     ]
    }
   ],
   "source": [
    "tensorboard = TensorBoard(log_dir='logs/' + run_name)\n",
    "# sess.graph contains the graph definition; that enables the Graph Visualizer.\n",
    "\n",
    "#file_writer = tf.summary.FileWriter('logs/', sess.graph)"
   ]
  },
  {
   "cell_type": "markdown",
   "metadata": {},
   "source": [
    "#### Train!"
   ]
  },
  {
   "cell_type": "code",
   "execution_count": null,
   "metadata": {},
   "outputs": [
    {
     "name": "stdout",
     "output_type": "stream",
     "text": [
      "Epoch 1/32\n"
     ]
    },
    {
     "name": "stdout",
     "output_type": "stream",
     "text": [
      "51/51 [==============================] - 1s 6ms/step - loss: 574.2991 - val_loss: 615.3801\n",
      "Epoch 2/32\n",
      "51/51 [==============================] - 0s 3ms/step - loss: 558.2911 - val_loss: 602.2886\n",
      "Epoch 3/32\n",
      "51/51 [==============================] - 0s 3ms/step - loss: 543.6044 - val_loss: 574.1384\n",
      "Epoch 4/32\n",
      "51/51 [==============================] - 0s 3ms/step - loss: 530.6501 - val_loss: 550.9173\n",
      "Epoch 5/32\n",
      "51/51 [==============================] - 0s 3ms/step - loss: 511.7399 - val_loss: 546.2864\n",
      "Epoch 6/32\n",
      "51/51 [==============================] - 0s 3ms/step - loss: 497.3950 - val_loss: 526.9281\n",
      "Epoch 7/32\n",
      "51/51 [==============================] - 0s 3ms/step - loss: 474.4537 - val_loss: 480.3800\n",
      "Epoch 8/32\n",
      "51/51 [==============================] - 0s 3ms/step - loss: 444.2628 - val_loss: 455.2715\n",
      "Epoch 9/32\n",
      "51/51 [==============================] - 0s 3ms/step - loss: 424.3246 - val_loss: 439.1710\n",
      "Epoch 10/32\n",
      "51/51 [==============================] - 0s 3ms/step - loss: 389.7624 - val_loss: 391.8266\n",
      "Epoch 11/32\n",
      "51/51 [==============================] - 0s 3ms/step - loss: 359.5210 - val_loss: 469.2960\n",
      "Epoch 12/32\n",
      "51/51 [==============================] - 0s 3ms/step - loss: 320.9875 - val_loss: 411.1465\n",
      "Epoch 13/32\n",
      "51/51 [==============================] - 0s 4ms/step - loss: 292.3018 - val_loss: 313.6936\n",
      "Epoch 14/32\n",
      "51/51 [==============================] - 0s 3ms/step - loss: 257.3282 - val_loss: 338.7507\n",
      "Epoch 15/32\n",
      "51/51 [==============================] - 0s 5ms/step - loss: 231.3370 - val_loss: 260.7645\n",
      "Epoch 16/32\n",
      "51/51 [==============================] - 0s 5ms/step - loss: 203.0075 - val_loss: 237.0684\n",
      "Epoch 17/32\n",
      "51/51 [==============================] - 0s 3ms/step - loss: 186.3492 - val_loss: 170.2503\n",
      "Epoch 18/32\n",
      "51/51 [==============================] - 0s 4ms/step - loss: 166.2442 - val_loss: 245.7456\n",
      "Epoch 19/32\n",
      "51/51 [==============================] - 0s 3ms/step - loss: 138.5623 - val_loss: 155.1314\n",
      "Epoch 20/32\n",
      "51/51 [==============================] - 0s 4ms/step - loss: 120.8358 - val_loss: 141.8168\n",
      "Epoch 21/32\n",
      "51/51 [==============================] - 0s 4ms/step - loss: 113.3242 - val_loss: 145.4928\n",
      "Epoch 22/32\n",
      "51/51 [==============================] - 0s 3ms/step - loss: 99.7726 - val_loss: 138.8344\n",
      "Epoch 23/32\n",
      "51/51 [==============================] - 0s 4ms/step - loss: 84.9658 - val_loss: 121.1132\n",
      "Epoch 24/32\n",
      "51/51 [==============================] - 0s 5ms/step - loss: 98.6583 - val_loss: 75.3425\n",
      "Epoch 25/32\n",
      "51/51 [==============================] - 0s 5ms/step - loss: 91.7875 - val_loss: 80.7316\n",
      "Epoch 26/32\n",
      "51/51 [==============================] - 0s 5ms/step - loss: 85.4946 - val_loss: 61.3975\n",
      "Epoch 27/32\n",
      "51/51 [==============================] - 0s 4ms/step - loss: 84.2245 - val_loss: 122.1256\n",
      "Epoch 28/32\n",
      "51/51 [==============================] - 0s 4ms/step - loss: 79.1148 - val_loss: 54.8569\n",
      "Epoch 29/32\n",
      "51/51 [==============================] - 0s 3ms/step - loss: 80.8129 - val_loss: 62.9317\n",
      "Epoch 30/32\n",
      "51/51 [==============================] - 0s 4ms/step - loss: 95.9474 - val_loss: 35.8724\n",
      "Epoch 31/32\n",
      "51/51 [==============================] - 0s 5ms/step - loss: 87.4099 - val_loss: 32.7043\n",
      "Epoch 32/32\n",
      "51/51 [==============================] - 0s 5ms/step - loss: 73.8269 - val_loss: 29.8691\n"
     ]
    },
    {
     "data": {
      "text/plain": [
       "<keras.src.callbacks.History at 0x21a8ead8290>"
      ]
     },
     "execution_count": 15,
     "metadata": {},
     "output_type": "execute_result"
    }
   ],
   "source": [
    "model.fit(X_train, y_train, \n",
    "          batch_size=8, epochs=32, verbose=1, \n",
    "          validation_data=(X_valid, y_valid),\n",
    "          callbacks=[modelcheckpoint, tensorboard]) "
   ]
  },
  {
   "cell_type": "markdown",
   "metadata": {},
   "source": [
    "#### Performing inference"
   ]
  },
  {
   "cell_type": "code",
   "execution_count": null,
   "metadata": {},
   "outputs": [],
   "source": [
    "model.load_weights(output_path + '/weights.31.hdf5')"
   ]
  },
  {
   "cell_type": "code",
   "execution_count": null,
   "metadata": {},
   "outputs": [
    {
     "data": {
      "text/plain": [
       "array([  9.32909,   0.     ,  18.1    ,   0.     ,   0.713  ,   6.185  ,\n",
       "        98.7    ,   2.2616 ,  24.     , 666.     ,  20.2    , 396.9    ,\n",
       "        18.13   ])"
      ]
     },
     "execution_count": 17,
     "metadata": {},
     "output_type": "execute_result"
    }
   ],
   "source": [
    "X_valid[42]"
   ]
  },
  {
   "cell_type": "code",
   "execution_count": null,
   "metadata": {},
   "outputs": [
    {
     "data": {
      "text/plain": [
       "14.1"
      ]
     },
     "execution_count": 18,
     "metadata": {},
     "output_type": "execute_result"
    }
   ],
   "source": [
    "y_valid[42]"
   ]
  },
  {
   "cell_type": "code",
   "execution_count": null,
   "metadata": {},
   "outputs": [
    {
     "name": "stdout",
     "output_type": "stream",
     "text": [
      "1/1 [==============================] - 0s 182ms/step\n"
     ]
    },
    {
     "data": {
      "text/plain": [
       "array([[13.857501]], dtype=float32)"
      ]
     },
     "execution_count": 19,
     "metadata": {},
     "output_type": "execute_result"
    }
   ],
   "source": [
    "model.predict(np.reshape(X_valid[42], [1, 13]))"
   ]
  },
  {
   "cell_type": "code",
   "execution_count": null,
   "metadata": {},
   "outputs": [],
   "source": []
  }
 ],
 "metadata": {
  "kernelspec": {
   "display_name": "Python 3",
   "language": "python",
   "name": "python3"
  },
  "language_info": {
   "codemirror_mode": {
    "name": "ipython",
    "version": 3
   },
   "file_extension": ".py",
   "mimetype": "text/x-python",
   "name": "python",
   "nbconvert_exporter": "python",
   "pygments_lexer": "ipython3",
   "version": "3.11.5"
  }
 },
 "nbformat": 4,
 "nbformat_minor": 2
}
