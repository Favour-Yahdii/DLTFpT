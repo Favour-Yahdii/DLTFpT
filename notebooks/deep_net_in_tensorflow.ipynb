{
  "cells": [
    {
      "cell_type": "markdown",
      "metadata": {
        "id": "rBc4jN01oxK6"
      },
      "source": [
        "# Deep Neural Network in TensorFlow"
      ]
    },
    {
      "cell_type": "markdown",
      "metadata": {
        "id": "jpqvWw3YoxK7"
      },
      "source": [
        "In this notebook, we improve on our [intermediate neural net](https://github.com/jonkrohn/DLTFpT/blob/master/notebooks/intermediate_net_in_tensorflow.ipynb) by incorporating the theory we've covered since."
      ]
    },
    {
      "cell_type": "markdown",
      "metadata": {
        "id": "AaQ-vO0NoxK8"
      },
      "source": [
        "[![Open In Colab](https://colab.research.google.com/assets/colab-badge.svg)](https://colab.research.google.com/github/jonkrohn/DLTFpT/blob/master/notebooks/deep_net_in_tensorflow.ipynb)"
      ]
    },
    {
      "cell_type": "markdown",
      "metadata": {
        "id": "xc8-tWyBoxK8"
      },
      "source": [
        "#### Load dependencies"
      ]
    },
    {
      "cell_type": "code",
      "execution_count": 1,
      "metadata": {
        "id": "TiEdNZIXoxK8",
        "scrolled": true
      },
      "outputs": [],
      "source": [
        "import tensorflow\n",
        "from tensorflow.keras.datasets import mnist\n",
        "from tensorflow.keras.utils import to_categorical\n",
        "from tensorflow.keras.models import Sequential\n",
        "from tensorflow.keras.layers import Dense\n",
        "from tensorflow.keras.layers import Dropout # new! #it is used to prevent overfitting, works by hiding some of the neurons during training\n",
        "from tensorflow.keras.layers import BatchNormalization # new! #it is used to normalize the input layer by adjusting and scaling the activations\n",
        "from tensorflow.keras.optimizers import SGD\n",
        "from matplotlib import pyplot as plt"
      ]
    },
    {
      "cell_type": "markdown",
      "metadata": {
        "id": "_VQNSjckoxK9"
      },
      "source": [
        "#### Load data"
      ]
    },
    {
      "cell_type": "code",
      "execution_count": 2,
      "metadata": {
        "colab": {
          "base_uri": "https://localhost:8080/"
        },
        "id": "-Anhi2R0oxK9",
        "outputId": "8652781a-e1cb-41ea-f5b5-8a905c158726",
        "scrolled": true
      },
      "outputs": [],
      "source": [
        "(X_train, y_train), (X_valid, y_valid) = mnist.load_data()"
      ]
    },
    {
      "cell_type": "markdown",
      "metadata": {
        "id": "1hlBAuuJoxK9"
      },
      "source": [
        "#### Preprocess data"
      ]
    },
    {
      "cell_type": "code",
      "execution_count": 5,
      "metadata": {
        "id": "S6HH-sn-oxK9"
      },
      "outputs": [],
      "source": [
        "X_train = X_train.reshape(60000, 784).astype('float32')\n",
        "X_valid = X_valid.reshape(10000, 784).astype('float32')"
      ]
    },
    {
      "cell_type": "code",
      "execution_count": 6,
      "metadata": {
        "id": "mYtjpndBoxK9"
      },
      "outputs": [],
      "source": [
        "X_train /= 255\n",
        "X_valid /= 255"
      ]
    },
    {
      "cell_type": "code",
      "execution_count": 7,
      "metadata": {},
      "outputs": [
        {
          "data": {
            "text/plain": [
              "array([5, 0, 4, ..., 5, 6, 8], dtype=uint8)"
            ]
          },
          "execution_count": 7,
          "metadata": {},
          "output_type": "execute_result"
        }
      ],
      "source": [
        "y_train"
      ]
    },
    {
      "cell_type": "code",
      "execution_count": 8,
      "metadata": {
        "id": "Llrv68VzoxK9"
      },
      "outputs": [
        {
          "name": "stdout",
          "output_type": "stream",
          "text": [
            "[[0. 0. 0. ... 0. 0. 0.]\n",
            " [1. 0. 0. ... 0. 0. 0.]\n",
            " [0. 0. 0. ... 0. 0. 0.]\n",
            " ...\n",
            " [0. 0. 0. ... 0. 0. 0.]\n",
            " [0. 0. 0. ... 0. 0. 0.]\n",
            " [0. 0. 0. ... 0. 1. 0.]]\n"
          ]
        }
      ],
      "source": [
        "n_classes = 10\n",
        "y_train = to_categorical(y_train, n_classes) # one-hot encoding\n",
        "print(y_train)\n",
        "y_valid = to_categorical(y_valid, n_classes)"
      ]
    },
    {
      "cell_type": "markdown",
      "metadata": {
        "id": "Q2snEjw6oxK9"
      },
      "source": [
        "#### Design neural network architecture"
      ]
    },
    {
      "cell_type": "code",
      "execution_count": 9,
      "metadata": {
        "id": "nP8VmY4ooxK-"
      },
      "outputs": [],
      "source": [
        "model = Sequential()\n",
        "\n",
        "model.add(Dense(64, activation='relu', input_shape=(784,)))\n",
        "model.add(BatchNormalization())\n",
        "\n",
        "model.add(Dense(64, activation='relu'))\n",
        "model.add(BatchNormalization())\n",
        "\n",
        "model.add(Dense(64, activation='relu'))\n",
        "model.add(BatchNormalization())\n",
        "model.add(Dropout(0.2)) #new! #it is used to prevent overfitting, works by hiding some of the neurons during training #added here  because there might be a chance that some features being memorised here are specific to the training data, only 0.2 because we didn't see a lot of overfitting before.\n",
        "\n",
        "#output layer\n",
        "model.add(Dense(10, activation='softmax'))"
      ]
    },
    {
      "cell_type": "code",
      "execution_count": 10,
      "metadata": {
        "colab": {
          "base_uri": "https://localhost:8080/"
        },
        "id": "KdGXw3zvoxK-",
        "outputId": "0105342d-1bac-47c1-e909-cb24549bf29f"
      },
      "outputs": [
        {
          "name": "stdout",
          "output_type": "stream",
          "text": [
            "Model: \"sequential\"\n",
            "_________________________________________________________________\n",
            " Layer (type)                Output Shape              Param #   \n",
            "=================================================================\n",
            " dense (Dense)               (None, 64)                50240     \n",
            "                                                                 \n",
            " batch_normalization (Batch  (None, 64)                256       \n",
            " Normalization)                                                  \n",
            "                                                                 \n",
            " dense_1 (Dense)             (None, 64)                4160      \n",
            "                                                                 \n",
            " batch_normalization_1 (Bat  (None, 64)                256       \n",
            " chNormalization)                                                \n",
            "                                                                 \n",
            " dense_2 (Dense)             (None, 64)                4160      \n",
            "                                                                 \n",
            " batch_normalization_2 (Bat  (None, 64)                256       \n",
            " chNormalization)                                                \n",
            "                                                                 \n",
            " dropout (Dropout)           (None, 64)                0         \n",
            "                                                                 \n",
            " dense_3 (Dense)             (None, 10)                650       \n",
            "                                                                 \n",
            "=================================================================\n",
            "Total params: 59978 (234.29 KB)\n",
            "Trainable params: 59594 (232.79 KB)\n",
            "Non-trainable params: 384 (1.50 KB)\n",
            "_________________________________________________________________\n"
          ]
        }
      ],
      "source": [
        "model.summary()"
      ]
    },
    {
      "cell_type": "markdown",
      "metadata": {
        "id": "Elhdi6XpoxK-"
      },
      "source": [
        "#### Configure model"
      ]
    },
    {
      "cell_type": "code",
      "execution_count": 11,
      "metadata": {
        "id": "fdBVWyy2oxK-"
      },
      "outputs": [],
      "source": [
        "model.compile(loss='categorical_crossentropy', optimizer='nadam', metrics=['accuracy'])"
      ]
    },
    {
      "cell_type": "markdown",
      "metadata": {
        "id": "AMXbqUOkoxK-"
      },
      "source": [
        "#### Train!"
      ]
    },
    {
      "cell_type": "code",
      "execution_count": 12,
      "metadata": {
        "colab": {
          "base_uri": "https://localhost:8080/"
        },
        "id": "rPIiIVHIoxK-",
        "outputId": "daf361e5-351e-4245-cd0d-01f3772c4638"
      },
      "outputs": [
        {
          "name": "stdout",
          "output_type": "stream",
          "text": [
            "Epoch 1/20\n",
            "469/469 [==============================] - 6s 8ms/step - loss: 0.3990 - accuracy: 0.8800 - val_loss: 0.1669 - val_accuracy: 0.9493\n",
            "Epoch 2/20\n",
            "469/469 [==============================] - 3s 5ms/step - loss: 0.1525 - accuracy: 0.9557 - val_loss: 0.1159 - val_accuracy: 0.9637\n",
            "Epoch 3/20\n",
            "469/469 [==============================] - 2s 5ms/step - loss: 0.1103 - accuracy: 0.9656 - val_loss: 0.1159 - val_accuracy: 0.9649\n",
            "Epoch 4/20\n",
            "469/469 [==============================] - 2s 5ms/step - loss: 0.0919 - accuracy: 0.9715 - val_loss: 0.1032 - val_accuracy: 0.9695\n",
            "Epoch 5/20\n",
            "469/469 [==============================] - 3s 6ms/step - loss: 0.0774 - accuracy: 0.9761 - val_loss: 0.0995 - val_accuracy: 0.9699\n",
            "Epoch 6/20\n",
            "469/469 [==============================] - 2s 4ms/step - loss: 0.0656 - accuracy: 0.9790 - val_loss: 0.0920 - val_accuracy: 0.9717\n",
            "Epoch 7/20\n",
            "469/469 [==============================] - 2s 5ms/step - loss: 0.0570 - accuracy: 0.9815 - val_loss: 0.1026 - val_accuracy: 0.9684\n",
            "Epoch 8/20\n",
            "469/469 [==============================] - 3s 6ms/step - loss: 0.0535 - accuracy: 0.9826 - val_loss: 0.0921 - val_accuracy: 0.9725\n",
            "Epoch 9/20\n",
            "469/469 [==============================] - 3s 6ms/step - loss: 0.0472 - accuracy: 0.9850 - val_loss: 0.0957 - val_accuracy: 0.9723\n",
            "Epoch 10/20\n",
            "469/469 [==============================] - 3s 6ms/step - loss: 0.0419 - accuracy: 0.9860 - val_loss: 0.0866 - val_accuracy: 0.9750\n",
            "Epoch 11/20\n",
            "469/469 [==============================] - 3s 6ms/step - loss: 0.0382 - accuracy: 0.9876 - val_loss: 0.1015 - val_accuracy: 0.9731\n",
            "Epoch 12/20\n",
            "469/469 [==============================] - 3s 6ms/step - loss: 0.0363 - accuracy: 0.9882 - val_loss: 0.0813 - val_accuracy: 0.9767\n",
            "Epoch 13/20\n",
            "469/469 [==============================] - 2s 5ms/step - loss: 0.0344 - accuracy: 0.9892 - val_loss: 0.0901 - val_accuracy: 0.9756\n",
            "Epoch 14/20\n",
            "469/469 [==============================] - 2s 5ms/step - loss: 0.0312 - accuracy: 0.9894 - val_loss: 0.0895 - val_accuracy: 0.9751\n",
            "Epoch 15/20\n",
            "469/469 [==============================] - 2s 5ms/step - loss: 0.0293 - accuracy: 0.9903 - val_loss: 0.0963 - val_accuracy: 0.9759\n",
            "Epoch 16/20\n",
            "469/469 [==============================] - 2s 5ms/step - loss: 0.0270 - accuracy: 0.9911 - val_loss: 0.0927 - val_accuracy: 0.9769\n",
            "Epoch 17/20\n",
            "469/469 [==============================] - 3s 5ms/step - loss: 0.0254 - accuracy: 0.9917 - val_loss: 0.1048 - val_accuracy: 0.9733\n",
            "Epoch 18/20\n",
            "469/469 [==============================] - 3s 6ms/step - loss: 0.0254 - accuracy: 0.9910 - val_loss: 0.1048 - val_accuracy: 0.9736\n",
            "Epoch 19/20\n",
            "469/469 [==============================] - 2s 4ms/step - loss: 0.0231 - accuracy: 0.9923 - val_loss: 0.0947 - val_accuracy: 0.9766\n",
            "Epoch 20/20\n",
            "469/469 [==============================] - 2s 4ms/step - loss: 0.0220 - accuracy: 0.9923 - val_loss: 0.0951 - val_accuracy: 0.9748\n"
          ]
        },
        {
          "data": {
            "text/plain": [
              "<keras.src.callbacks.History at 0x28f86738590>"
            ]
          },
          "execution_count": 12,
          "metadata": {},
          "output_type": "execute_result"
        }
      ],
      "source": [
        "model.fit(X_train, y_train, batch_size=128, epochs=20, verbose=1, validation_data=(X_valid, y_valid))"
      ]
    },
    {
      "cell_type": "markdown",
      "metadata": {
        "id": "ttxTyteyoxK-"
      },
      "source": [
        "#### Performing inference"
      ]
    },
    {
      "cell_type": "code",
      "execution_count": 13,
      "metadata": {
        "id": "SGFH9CtloxK-"
      },
      "outputs": [],
      "source": [
        "valid_0 = X_valid[0].reshape(1, 784)"
      ]
    },
    {
      "cell_type": "code",
      "execution_count": 14,
      "metadata": {
        "colab": {
          "base_uri": "https://localhost:8080/"
        },
        "id": "tjcfovmFoxK-",
        "outputId": "f1921dbb-8cda-46a2-ee5a-26caa808cd2f"
      },
      "outputs": [
        {
          "name": "stdout",
          "output_type": "stream",
          "text": [
            "1/1 [==============================] - 0s 122ms/step\n"
          ]
        },
        {
          "data": {
            "text/plain": [
              "array([[5.0910289e-06, 1.1748543e-07, 3.0548415e-07, 1.1457006e-06,\n",
              "        6.3599367e-07, 5.8431500e-09, 2.9439109e-08, 9.9996626e-01,\n",
              "        8.0438966e-08, 2.6225462e-05]], dtype=float32)"
            ]
          },
          "execution_count": 14,
          "metadata": {},
          "output_type": "execute_result"
        }
      ],
      "source": [
        "model.predict(valid_0)"
      ]
    },
    {
      "cell_type": "code",
      "execution_count": 12,
      "metadata": {
        "id": "r4g7TQ7soxK-"
      },
      "outputs": [],
      "source": [
        "# model.predict_classes(valid_0)"
      ]
    },
    {
      "cell_type": "code",
      "execution_count": 15,
      "metadata": {
        "colab": {
          "base_uri": "https://localhost:8080/"
        },
        "id": "d9cyTg1joxK_",
        "outputId": "917592a1-3ac3-4792-df3c-61aeff5cd285"
      },
      "outputs": [
        {
          "name": "stdout",
          "output_type": "stream",
          "text": [
            "1/1 [==============================] - 0s 26ms/step\n"
          ]
        },
        {
          "data": {
            "text/plain": [
              "array([7], dtype=int64)"
            ]
          },
          "execution_count": 15,
          "metadata": {},
          "output_type": "execute_result"
        }
      ],
      "source": [
        "# The predict_classes() method no longer exists in recent TensorFlow releases. \n",
        "# Instead you could use:\n",
        "import numpy as np\n",
        "np.argmax(model.predict(valid_0), axis=-1)"
      ]
    }
  ],
  "metadata": {
    "accelerator": "GPU",
    "colab": {
      "provenance": []
    },
    "gpuClass": "standard",
    "kernelspec": {
      "display_name": "Python 3",
      "language": "python",
      "name": "python3"
    },
    "language_info": {
      "codemirror_mode": {
        "name": "ipython",
        "version": 3
      },
      "file_extension": ".py",
      "mimetype": "text/x-python",
      "name": "python",
      "nbconvert_exporter": "python",
      "pygments_lexer": "ipython3",
      "version": "3.11.5"
    }
  },
  "nbformat": 4,
  "nbformat_minor": 0
}
