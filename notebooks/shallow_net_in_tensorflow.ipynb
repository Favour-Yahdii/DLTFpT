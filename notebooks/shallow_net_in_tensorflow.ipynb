{
  "cells": [
    {
      "cell_type": "markdown",
      "metadata": {
        "id": "yXe7qqFO6_a0"
      },
      "source": [
        "# Shallow Neural Network in TensorFlow"
      ]
    },
    {
      "cell_type": "markdown",
      "metadata": {
        "id": "jmuNn2tq6_a3"
      },
      "source": [
        "Build a shallow neural network to classify handwritten digits"
      ]
    },
    {
      "cell_type": "markdown",
      "metadata": {
        "id": "j3kXOHzK6_a3"
      },
      "source": [
        "[![Open In Colab](https://colab.research.google.com/assets/colab-badge.svg)](https://colab.research.google.com/github/jonkrohn/DLTFpT/blob/master/notebooks/shallow_net_in_tensorflow.ipynb)"
      ]
    },
    {
      "cell_type": "markdown",
      "metadata": {
        "id": "N3UVHR0h6_a3"
      },
      "source": [
        "#### Load dependencies"
      ]
    },
    {
      "cell_type": "code",
      "execution_count": 2,
      "metadata": {
        "id": "q3D0fOWA6_a3",
        "scrolled": true
      },
      "outputs": [],
      "source": [
        "import tensorflow\n",
        "from tensorflow.keras.datasets import mnist #keras is a tf module\n",
        "from tensorflow.keras.utils import to_categorical\n",
        "from tensorflow.keras.models import Sequential\n",
        "from tensorflow.keras.layers import Dense\n",
        "from tensorflow.keras.optimizers import SGD\n",
        "from matplotlib import pyplot as plt"
      ]
    },
    {
      "cell_type": "markdown",
      "metadata": {
        "id": "ylXl_LZW6_a4"
      },
      "source": [
        "#### Load data"
      ]
    },
    {
      "cell_type": "code",
      "execution_count": 6,
      "metadata": {
        "colab": {
          "base_uri": "https://localhost:8080/"
        },
        "id": "_ul223LE6_a5",
        "outputId": "03320d07-8a15-4292-a225-a37093872858",
        "scrolled": true
      },
      "outputs": [],
      "source": [
        "(X_train, y_train), (X_valid, y_valid) = mnist.load_data()"
      ]
    },
    {
      "cell_type": "code",
      "execution_count": 7,
      "metadata": {
        "colab": {
          "base_uri": "https://localhost:8080/"
        },
        "id": "emvpQ-bf6_a5",
        "outputId": "fc2cee68-938a-4369-dd52-ca96fd6fdc56"
      },
      "outputs": [
        {
          "data": {
            "text/plain": [
              "(60000, 28, 28)"
            ]
          },
          "execution_count": 7,
          "metadata": {},
          "output_type": "execute_result"
        }
      ],
      "source": [
        "X_train.shape"
      ]
    },
    {
      "cell_type": "code",
      "execution_count": 8,
      "metadata": {
        "colab": {
          "base_uri": "https://localhost:8080/"
        },
        "id": "7OxM-LzU6_a6",
        "outputId": "8230831f-83d2-4d95-ae4d-7aee4890f3df"
      },
      "outputs": [
        {
          "data": {
            "text/plain": [
              "(60000,)"
            ]
          },
          "execution_count": 8,
          "metadata": {},
          "output_type": "execute_result"
        }
      ],
      "source": [
        "y_train.shape"
      ]
    },
    {
      "cell_type": "code",
      "execution_count": 9,
      "metadata": {
        "colab": {
          "base_uri": "https://localhost:8080/"
        },
        "id": "AjloksfO6_a6",
        "outputId": "9d4560cd-a72b-471d-981c-d36299799961"
      },
      "outputs": [
        {
          "data": {
            "text/plain": [
              "array([5, 0, 4, 1, 9, 2, 1, 3, 1, 4, 3, 5], dtype=uint8)"
            ]
          },
          "execution_count": 9,
          "metadata": {},
          "output_type": "execute_result"
        }
      ],
      "source": [
        "y_train[0:12] #first 12 of 60k labels"
      ]
    },
    {
      "cell_type": "code",
      "execution_count": 10,
      "metadata": {
        "colab": {
          "base_uri": "https://localhost:8080/",
          "height": 447
        },
        "id": "6ogokP4I6_a6",
        "outputId": "50951a83-cd36-4197-fadb-8fe3a6ab26f1"
      },
      "outputs": [
        {
          "data": {
            "image/png": "[encoded data removed]",
            "text/plain": [
              "<Figure size 500x500 with 12 Axes>"
            ]
          },
          "metadata": {},
          "output_type": "display_data"
        }
      ],
      "source": [
        "plt.figure(figsize=(5,5))\n",
        "for k in range(12):\n",
        "    plt.subplot(3, 4, k+1)\n",
        "    plt.imshow(X_train[k], cmap='Greys')\n",
        "    plt.axis('off')\n",
        "plt.tight_layout()\n",
        "plt.show()"
      ]
    },
    {
      "cell_type": "code",
      "execution_count": 11,
      "metadata": {
        "colab": {
          "base_uri": "https://localhost:8080/"
        },
        "id": "OAoj2yr46_a7",
        "outputId": "425e6252-d8dd-4bb8-ef28-bc4ef08a915a"
      },
      "outputs": [
        {
          "data": {
            "text/plain": [
              "(10000, 28, 28)"
            ]
          },
          "execution_count": 11,
          "metadata": {},
          "output_type": "execute_result"
        }
      ],
      "source": [
        "X_valid.shape"
      ]
    },
    {
      "cell_type": "code",
      "execution_count": 12,
      "metadata": {
        "colab": {
          "base_uri": "https://localhost:8080/"
        },
        "id": "XQ0WH4-t6_a7",
        "outputId": "85c4d5cf-199c-4c48-9548-dcc629dd5ea9"
      },
      "outputs": [
        {
          "data": {
            "text/plain": [
              "(10000,)"
            ]
          },
          "execution_count": 12,
          "metadata": {},
          "output_type": "execute_result"
        }
      ],
      "source": [
        "y_valid.shape"
      ]
    },
    {
      "cell_type": "code",
      "execution_count": 14,
      "metadata": {
        "colab": {
          "base_uri": "https://localhost:8080/",
          "height": 430
        },
        "id": "yIgMMMu-6_a7",
        "outputId": "5086be9b-d6da-47ab-d2a0-c11f75950856"
      },
      "outputs": [
        {
          "data": {
            "image/png": "[encoded data removed]",
            "text/plain": [
              "<Figure size 640x480 with 1 Axes>"
            ]
          },
          "metadata": {},
          "output_type": "display_data"
        }
      ],
      "source": [
        "_ = plt.imshow(X_valid[0], cmap='Greys')"
      ]
    },
    {
      "cell_type": "code",
      "execution_count": 15,
      "metadata": {
        "colab": {
          "base_uri": "https://localhost:8080/"
        },
        "id": "dG7hy3fG6_a8",
        "outputId": "a7a395b9-8ec6-4fbb-91a6-54e20ad56f8e"
      },
      "outputs": [
        {
          "data": {
            "text/plain": [
              "array([[  0,   0,   0,   0,   0,   0,   0,   0,   0,   0,   0,   0,   0,\n",
              "          0,   0,   0,   0,   0,   0,   0,   0,   0,   0,   0,   0,   0,\n",
              "          0,   0],\n",
              "       [  0,   0,   0,   0,   0,   0,   0,   0,   0,   0,   0,   0,   0,\n",
              "          0,   0,   0,   0,   0,   0,   0,   0,   0,   0,   0,   0,   0,\n",
              "          0,   0],\n",
              "       [  0,   0,   0,   0,   0,   0,   0,   0,   0,   0,   0,   0,   0,\n",
              "          0,   0,   0,   0,   0,   0,   0,   0,   0,   0,   0,   0,   0,\n",
              "          0,   0],\n",
              "       [  0,   0,   0,   0,   0,   0,   0,   0,   0,   0,   0,   0,   0,\n",
              "          0,   0,   0,   0,   0,   0,   0,   0,   0,   0,   0,   0,   0,\n",
              "          0,   0],\n",
              "       [  0,   0,   0,   0,   0,   0,   0,   0,   0,   0,   0,   0,   0,\n",
              "          0,   0,   0,   0,   0,   0,   0,   0,   0,   0,   0,   0,   0,\n",
              "          0,   0],\n",
              "       [  0,   0,   0,   0,   0,   0,   0,   0,   0,   0,   0,   0,   0,\n",
              "          0,   0,   0,   0,   0,   0,   0,   0,   0,   0,   0,   0,   0,\n",
              "          0,   0],\n",
              "       [  0,   0,   0,   0,   0,   0,   0,   0,   0,   0,   0,   0,   0,\n",
              "          0,   0,   0,   0,   0,   0,   0,   0,   0,   0,   0,   0,   0,\n",
              "          0,   0],\n",
              "       [  0,   0,   0,   0,   0,   0,  84, 185, 159, 151,  60,  36,   0,\n",
              "          0,   0,   0,   0,   0,   0,   0,   0,   0,   0,   0,   0,   0,\n",
              "          0,   0],\n",
              "       [  0,   0,   0,   0,   0,   0, 222, 254, 254, 254, 254, 241, 198,\n",
              "        198, 198, 198, 198, 198, 198, 198, 170,  52,   0,   0,   0,   0,\n",
              "          0,   0],\n",
              "       [  0,   0,   0,   0,   0,   0,  67, 114,  72, 114, 163, 227, 254,\n",
              "        225, 254, 254, 254, 250, 229, 254, 254, 140,   0,   0,   0,   0,\n",
              "          0,   0],\n",
              "       [  0,   0,   0,   0,   0,   0,   0,   0,   0,   0,   0,  17,  66,\n",
              "         14,  67,  67,  67,  59,  21, 236, 254, 106,   0,   0,   0,   0,\n",
              "          0,   0],\n",
              "       [  0,   0,   0,   0,   0,   0,   0,   0,   0,   0,   0,   0,   0,\n",
              "          0,   0,   0,   0,   0,  83, 253, 209,  18,   0,   0,   0,   0,\n",
              "          0,   0],\n",
              "       [  0,   0,   0,   0,   0,   0,   0,   0,   0,   0,   0,   0,   0,\n",
              "          0,   0,   0,   0,  22, 233, 255,  83,   0,   0,   0,   0,   0,\n",
              "          0,   0],\n",
              "       [  0,   0,   0,   0,   0,   0,   0,   0,   0,   0,   0,   0,   0,\n",
              "          0,   0,   0,   0, 129, 254, 238,  44,   0,   0,   0,   0,   0,\n",
              "          0,   0],\n",
              "       [  0,   0,   0,   0,   0,   0,   0,   0,   0,   0,   0,   0,   0,\n",
              "          0,   0,   0,  59, 249, 254,  62,   0,   0,   0,   0,   0,   0,\n",
              "          0,   0],\n",
              "       [  0,   0,   0,   0,   0,   0,   0,   0,   0,   0,   0,   0,   0,\n",
              "          0,   0,   0, 133, 254, 187,   5,   0,   0,   0,   0,   0,   0,\n",
              "          0,   0],\n",
              "       [  0,   0,   0,   0,   0,   0,   0,   0,   0,   0,   0,   0,   0,\n",
              "          0,   0,   9, 205, 248,  58,   0,   0,   0,   0,   0,   0,   0,\n",
              "          0,   0],\n",
              "       [  0,   0,   0,   0,   0,   0,   0,   0,   0,   0,   0,   0,   0,\n",
              "          0,   0, 126, 254, 182,   0,   0,   0,   0,   0,   0,   0,   0,\n",
              "          0,   0],\n",
              "       [  0,   0,   0,   0,   0,   0,   0,   0,   0,   0,   0,   0,   0,\n",
              "          0,  75, 251, 240,  57,   0,   0,   0,   0,   0,   0,   0,   0,\n",
              "          0,   0],\n",
              "       [  0,   0,   0,   0,   0,   0,   0,   0,   0,   0,   0,   0,   0,\n",
              "         19, 221, 254, 166,   0,   0,   0,   0,   0,   0,   0,   0,   0,\n",
              "          0,   0],\n",
              "       [  0,   0,   0,   0,   0,   0,   0,   0,   0,   0,   0,   0,   3,\n",
              "        203, 254, 219,  35,   0,   0,   0,   0,   0,   0,   0,   0,   0,\n",
              "          0,   0],\n",
              "       [  0,   0,   0,   0,   0,   0,   0,   0,   0,   0,   0,   0,  38,\n",
              "        254, 254,  77,   0,   0,   0,   0,   0,   0,   0,   0,   0,   0,\n",
              "          0,   0],\n",
              "       [  0,   0,   0,   0,   0,   0,   0,   0,   0,   0,   0,  31, 224,\n",
              "        254, 115,   1,   0,   0,   0,   0,   0,   0,   0,   0,   0,   0,\n",
              "          0,   0],\n",
              "       [  0,   0,   0,   0,   0,   0,   0,   0,   0,   0,   0, 133, 254,\n",
              "        254,  52,   0,   0,   0,   0,   0,   0,   0,   0,   0,   0,   0,\n",
              "          0,   0],\n",
              "       [  0,   0,   0,   0,   0,   0,   0,   0,   0,   0,  61, 242, 254,\n",
              "        254,  52,   0,   0,   0,   0,   0,   0,   0,   0,   0,   0,   0,\n",
              "          0,   0],\n",
              "       [  0,   0,   0,   0,   0,   0,   0,   0,   0,   0, 121, 254, 254,\n",
              "        219,  40,   0,   0,   0,   0,   0,   0,   0,   0,   0,   0,   0,\n",
              "          0,   0],\n",
              "       [  0,   0,   0,   0,   0,   0,   0,   0,   0,   0, 121, 254, 207,\n",
              "         18,   0,   0,   0,   0,   0,   0,   0,   0,   0,   0,   0,   0,\n",
              "          0,   0],\n",
              "       [  0,   0,   0,   0,   0,   0,   0,   0,   0,   0,   0,   0,   0,\n",
              "          0,   0,   0,   0,   0,   0,   0,   0,   0,   0,   0,   0,   0,\n",
              "          0,   0]], dtype=uint8)"
            ]
          },
          "execution_count": 15,
          "metadata": {},
          "output_type": "execute_result"
        }
      ],
      "source": [
        "X_valid[0] #the pixel values of the first image"
      ]
    },
    {
      "cell_type": "code",
      "execution_count": 16,
      "metadata": {
        "colab": {
          "base_uri": "https://localhost:8080/"
        },
        "id": "fAR385d56_a8",
        "outputId": "58cd7ddc-6cbc-4f8e-d4b9-49d653936bae"
      },
      "outputs": [
        {
          "data": {
            "text/plain": [
              "7"
            ]
          },
          "execution_count": 16,
          "metadata": {},
          "output_type": "execute_result"
        }
      ],
      "source": [
        "y_valid[0]"
      ]
    },
    {
      "cell_type": "markdown",
      "metadata": {
        "id": "QCYuT40d6_a8"
      },
      "source": [
        "#### Preprocess data"
      ]
    },
    {
      "cell_type": "code",
      "execution_count": 17,
      "metadata": {
        "id": "6Odu_77x6_a8"
      },
      "outputs": [],
      "source": [
        "X_train = X_train.reshape(60000, 784).astype('float32') #reformat the data shape to arrays\n",
        "X_valid = X_valid.reshape(10000, 784).astype('float32')"
      ]
    },
    {
      "cell_type": "code",
      "execution_count": 18,
      "metadata": {
        "id": "TPz3rucK6_a9"
      },
      "outputs": [],
      "source": [
        "X_train /= 255\n",
        "X_valid /= 255 #to range from 0 to 1"
      ]
    },
    {
      "cell_type": "code",
      "execution_count": 19,
      "metadata": {
        "colab": {
          "base_uri": "https://localhost:8080/"
        },
        "id": "dxLl0pCg6_a9",
        "outputId": "fd7321ad-5492-4566-e4de-52420ebb9d99"
      },
      "outputs": [
        {
          "data": {
            "text/plain": [
              "array([0.        , 0.        , 0.        , 0.        , 0.        ,\n",
              "       0.        , 0.        , 0.        , 0.        , 0.        ,\n",
              "       0.        , 0.        , 0.        , 0.        , 0.        ,\n",
              "       0.        , 0.        , 0.        , 0.        , 0.        ,\n",
              "       0.        , 0.        , 0.        , 0.        , 0.        ,\n",
              "       0.        , 0.        , 0.        , 0.        , 0.        ,\n",
              "       0.        , 0.        , 0.        , 0.        , 0.        ,\n",
              "       0.        , 0.        , 0.        , 0.        , 0.        ,\n",
              "       0.        , 0.        , 0.        , 0.        , 0.        ,\n",
              "       0.        , 0.        , 0.        , 0.        , 0.        ,\n",
              "       0.        , 0.        , 0.        , 0.        , 0.        ,\n",
              "       0.        , 0.        , 0.        , 0.        , 0.        ,\n",
              "       0.        , 0.        , 0.        , 0.        , 0.        ,\n",
              "       0.        , 0.        , 0.        , 0.        , 0.        ,\n",
              "       0.        , 0.        , 0.        , 0.        , 0.        ,\n",
              "       0.        , 0.        , 0.        , 0.        , 0.        ,\n",
              "       0.        , 0.        , 0.        , 0.        , 0.        ,\n",
              "       0.        , 0.        , 0.        , 0.        , 0.        ,\n",
              "       0.        , 0.        , 0.        , 0.        , 0.        ,\n",
              "       0.        , 0.        , 0.        , 0.        , 0.        ,\n",
              "       0.        , 0.        , 0.        , 0.        , 0.        ,\n",
              "       0.        , 0.        , 0.        , 0.        , 0.        ,\n",
              "       0.        , 0.        , 0.        , 0.        , 0.        ,\n",
              "       0.        , 0.        , 0.        , 0.        , 0.        ,\n",
              "       0.        , 0.        , 0.        , 0.        , 0.        ,\n",
              "       0.        , 0.        , 0.        , 0.        , 0.        ,\n",
              "       0.        , 0.        , 0.        , 0.        , 0.        ,\n",
              "       0.        , 0.        , 0.        , 0.        , 0.        ,\n",
              "       0.        , 0.        , 0.        , 0.        , 0.        ,\n",
              "       0.        , 0.        , 0.        , 0.        , 0.        ,\n",
              "       0.        , 0.        , 0.        , 0.        , 0.        ,\n",
              "       0.        , 0.        , 0.        , 0.        , 0.        ,\n",
              "       0.        , 0.        , 0.        , 0.        , 0.        ,\n",
              "       0.        , 0.        , 0.        , 0.        , 0.        ,\n",
              "       0.        , 0.        , 0.        , 0.        , 0.        ,\n",
              "       0.        , 0.        , 0.        , 0.        , 0.        ,\n",
              "       0.        , 0.        , 0.        , 0.        , 0.        ,\n",
              "       0.        , 0.        , 0.        , 0.        , 0.        ,\n",
              "       0.        , 0.        , 0.        , 0.        , 0.        ,\n",
              "       0.        , 0.        , 0.        , 0.        , 0.        ,\n",
              "       0.        , 0.        , 0.32941177, 0.7254902 , 0.62352943,\n",
              "       0.5921569 , 0.23529412, 0.14117648, 0.        , 0.        ,\n",
              "       0.        , 0.        , 0.        , 0.        , 0.        ,\n",
              "       0.        , 0.        , 0.        , 0.        , 0.        ,\n",
              "       0.        , 0.        , 0.        , 0.        , 0.        ,\n",
              "       0.        , 0.        , 0.        , 0.        , 0.        ,\n",
              "       0.87058824, 0.99607843, 0.99607843, 0.99607843, 0.99607843,\n",
              "       0.94509804, 0.7764706 , 0.7764706 , 0.7764706 , 0.7764706 ,\n",
              "       0.7764706 , 0.7764706 , 0.7764706 , 0.7764706 , 0.6666667 ,\n",
              "       0.20392157, 0.        , 0.        , 0.        , 0.        ,\n",
              "       0.        , 0.        , 0.        , 0.        , 0.        ,\n",
              "       0.        , 0.        , 0.        , 0.2627451 , 0.44705883,\n",
              "       0.28235295, 0.44705883, 0.6392157 , 0.8901961 , 0.99607843,\n",
              "       0.88235295, 0.99607843, 0.99607843, 0.99607843, 0.98039216,\n",
              "       0.8980392 , 0.99607843, 0.99607843, 0.54901963, 0.        ,\n",
              "       0.        , 0.        , 0.        , 0.        , 0.        ,\n",
              "       0.        , 0.        , 0.        , 0.        , 0.        ,\n",
              "       0.        , 0.        , 0.        , 0.        , 0.        ,\n",
              "       0.        , 0.06666667, 0.25882354, 0.05490196, 0.2627451 ,\n",
              "       0.2627451 , 0.2627451 , 0.23137255, 0.08235294, 0.9254902 ,\n",
              "       0.99607843, 0.41568628, 0.        , 0.        , 0.        ,\n",
              "       0.        , 0.        , 0.        , 0.        , 0.        ,\n",
              "       0.        , 0.        , 0.        , 0.        , 0.        ,\n",
              "       0.        , 0.        , 0.        , 0.        , 0.        ,\n",
              "       0.        , 0.        , 0.        , 0.        , 0.        ,\n",
              "       0.        , 0.3254902 , 0.99215686, 0.81960785, 0.07058824,\n",
              "       0.        , 0.        , 0.        , 0.        , 0.        ,\n",
              "       0.        , 0.        , 0.        , 0.        , 0.        ,\n",
              "       0.        , 0.        , 0.        , 0.        , 0.        ,\n",
              "       0.        , 0.        , 0.        , 0.        , 0.        ,\n",
              "       0.        , 0.        , 0.        , 0.08627451, 0.9137255 ,\n",
              "       1.        , 0.3254902 , 0.        , 0.        , 0.        ,\n",
              "       0.        , 0.        , 0.        , 0.        , 0.        ,\n",
              "       0.        , 0.        , 0.        , 0.        , 0.        ,\n",
              "       0.        , 0.        , 0.        , 0.        , 0.        ,\n",
              "       0.        , 0.        , 0.        , 0.        , 0.        ,\n",
              "       0.        , 0.5058824 , 0.99607843, 0.93333334, 0.17254902,\n",
              "       0.        , 0.        , 0.        , 0.        , 0.        ,\n",
              "       0.        , 0.        , 0.        , 0.        , 0.        ,\n",
              "       0.        , 0.        , 0.        , 0.        , 0.        ,\n",
              "       0.        , 0.        , 0.        , 0.        , 0.        ,\n",
              "       0.        , 0.        , 0.        , 0.23137255, 0.9764706 ,\n",
              "       0.99607843, 0.24313726, 0.        , 0.        , 0.        ,\n",
              "       0.        , 0.        , 0.        , 0.        , 0.        ,\n",
              "       0.        , 0.        , 0.        , 0.        , 0.        ,\n",
              "       0.        , 0.        , 0.        , 0.        , 0.        ,\n",
              "       0.        , 0.        , 0.        , 0.        , 0.        ,\n",
              "       0.        , 0.52156866, 0.99607843, 0.73333335, 0.01960784,\n",
              "       0.        , 0.        , 0.        , 0.        , 0.        ,\n",
              "       0.        , 0.        , 0.        , 0.        , 0.        ,\n",
              "       0.        , 0.        , 0.        , 0.        , 0.        ,\n",
              "       0.        , 0.        , 0.        , 0.        , 0.        ,\n",
              "       0.        , 0.        , 0.        , 0.03529412, 0.8039216 ,\n",
              "       0.972549  , 0.22745098, 0.        , 0.        , 0.        ,\n",
              "       0.        , 0.        , 0.        , 0.        , 0.        ,\n",
              "       0.        , 0.        , 0.        , 0.        , 0.        ,\n",
              "       0.        , 0.        , 0.        , 0.        , 0.        ,\n",
              "       0.        , 0.        , 0.        , 0.        , 0.        ,\n",
              "       0.        , 0.49411765, 0.99607843, 0.7137255 , 0.        ,\n",
              "       0.        , 0.        , 0.        , 0.        , 0.        ,\n",
              "       0.        , 0.        , 0.        , 0.        , 0.        ,\n",
              "       0.        , 0.        , 0.        , 0.        , 0.        ,\n",
              "       0.        , 0.        , 0.        , 0.        , 0.        ,\n",
              "       0.        , 0.        , 0.        , 0.29411766, 0.9843137 ,\n",
              "       0.9411765 , 0.22352941, 0.        , 0.        , 0.        ,\n",
              "       0.        , 0.        , 0.        , 0.        , 0.        ,\n",
              "       0.        , 0.        , 0.        , 0.        , 0.        ,\n",
              "       0.        , 0.        , 0.        , 0.        , 0.        ,\n",
              "       0.        , 0.        , 0.        , 0.        , 0.        ,\n",
              "       0.07450981, 0.8666667 , 0.99607843, 0.6509804 , 0.        ,\n",
              "       0.        , 0.        , 0.        , 0.        , 0.        ,\n",
              "       0.        , 0.        , 0.        , 0.        , 0.        ,\n",
              "       0.        , 0.        , 0.        , 0.        , 0.        ,\n",
              "       0.        , 0.        , 0.        , 0.        , 0.        ,\n",
              "       0.        , 0.        , 0.01176471, 0.79607844, 0.99607843,\n",
              "       0.85882354, 0.13725491, 0.        , 0.        , 0.        ,\n",
              "       0.        , 0.        , 0.        , 0.        , 0.        ,\n",
              "       0.        , 0.        , 0.        , 0.        , 0.        ,\n",
              "       0.        , 0.        , 0.        , 0.        , 0.        ,\n",
              "       0.        , 0.        , 0.        , 0.        , 0.        ,\n",
              "       0.14901961, 0.99607843, 0.99607843, 0.3019608 , 0.        ,\n",
              "       0.        , 0.        , 0.        , 0.        , 0.        ,\n",
              "       0.        , 0.        , 0.        , 0.        , 0.        ,\n",
              "       0.        , 0.        , 0.        , 0.        , 0.        ,\n",
              "       0.        , 0.        , 0.        , 0.        , 0.        ,\n",
              "       0.        , 0.        , 0.12156863, 0.8784314 , 0.99607843,\n",
              "       0.4509804 , 0.00392157, 0.        , 0.        , 0.        ,\n",
              "       0.        , 0.        , 0.        , 0.        , 0.        ,\n",
              "       0.        , 0.        , 0.        , 0.        , 0.        ,\n",
              "       0.        , 0.        , 0.        , 0.        , 0.        ,\n",
              "       0.        , 0.        , 0.        , 0.        , 0.        ,\n",
              "       0.52156866, 0.99607843, 0.99607843, 0.20392157, 0.        ,\n",
              "       0.        , 0.        , 0.        , 0.        , 0.        ,\n",
              "       0.        , 0.        , 0.        , 0.        , 0.        ,\n",
              "       0.        , 0.        , 0.        , 0.        , 0.        ,\n",
              "       0.        , 0.        , 0.        , 0.        , 0.        ,\n",
              "       0.        , 0.        , 0.23921569, 0.9490196 , 0.99607843,\n",
              "       0.99607843, 0.20392157, 0.        , 0.        , 0.        ,\n",
              "       0.        , 0.        , 0.        , 0.        , 0.        ,\n",
              "       0.        , 0.        , 0.        , 0.        , 0.        ,\n",
              "       0.        , 0.        , 0.        , 0.        , 0.        ,\n",
              "       0.        , 0.        , 0.        , 0.        , 0.        ,\n",
              "       0.4745098 , 0.99607843, 0.99607843, 0.85882354, 0.15686275,\n",
              "       0.        , 0.        , 0.        , 0.        , 0.        ,\n",
              "       0.        , 0.        , 0.        , 0.        , 0.        ,\n",
              "       0.        , 0.        , 0.        , 0.        , 0.        ,\n",
              "       0.        , 0.        , 0.        , 0.        , 0.        ,\n",
              "       0.        , 0.        , 0.        , 0.4745098 , 0.99607843,\n",
              "       0.8117647 , 0.07058824, 0.        , 0.        , 0.        ,\n",
              "       0.        , 0.        , 0.        , 0.        , 0.        ,\n",
              "       0.        , 0.        , 0.        , 0.        , 0.        ,\n",
              "       0.        , 0.        , 0.        , 0.        , 0.        ,\n",
              "       0.        , 0.        , 0.        , 0.        , 0.        ,\n",
              "       0.        , 0.        , 0.        , 0.        , 0.        ,\n",
              "       0.        , 0.        , 0.        , 0.        , 0.        ,\n",
              "       0.        , 0.        , 0.        , 0.        , 0.        ,\n",
              "       0.        , 0.        , 0.        , 0.        ], dtype=float32)"
            ]
          },
          "execution_count": 19,
          "metadata": {},
          "output_type": "execute_result"
        }
      ],
      "source": [
        "X_valid[0] #now 1 array of 784 values"
      ]
    },
    {
      "cell_type": "code",
      "execution_count": 20,
      "metadata": {
        "id": "tv3n3itV6_a9"
      },
      "outputs": [],
      "source": [
        "n_classes = 10\n",
        "y_train = to_categorical(y_train, n_classes)\n",
        "y_valid = to_categorical(y_valid, n_classes) #one-hot encoding of the labels"
      ]
    },
    {
      "cell_type": "code",
      "execution_count": 21,
      "metadata": {
        "colab": {
          "base_uri": "https://localhost:8080/"
        },
        "id": "NYkE_jXi6_a9",
        "outputId": "1b2be686-04ed-4aa1-bbb0-c89231c8b6d1"
      },
      "outputs": [
        {
          "data": {
            "text/plain": [
              "array([0., 0., 0., 0., 0., 0., 0., 1., 0., 0.], dtype=float32)"
            ]
          },
          "execution_count": 21,
          "metadata": {},
          "output_type": "execute_result"
        }
      ],
      "source": [
        "y_valid[0] #this one hot encoding helped us reformat the labels into the desired output"
      ]
    },
    {
      "cell_type": "markdown",
      "metadata": {
        "id": "IKupjM0z6_a9"
      },
      "source": [
        "#### Design neural network architecture"
      ]
    },
    {
      "cell_type": "code",
      "execution_count": 22,
      "metadata": {
        "id": "1KkhUt-m6_a-"
      },
      "outputs": [],
      "source": [
        "model = Sequential() #information would flow sequentially from one layer to the next\n",
        "model.add(Dense(64, activation='sigmoid', input_shape=(784,))) #64 sigmoid neurons, expect a 784 length array\n",
        "model.add(Dense(10, activation='softmax'))  #10 neurons to indicate 10 output numbers"
      ]
    },
    {
      "cell_type": "code",
      "execution_count": 23,
      "metadata": {
        "colab": {
          "base_uri": "https://localhost:8080/"
        },
        "id": "d1__QwQt6_a-",
        "outputId": "583effe3-3e68-4cd2-c108-7b2b4872864c"
      },
      "outputs": [
        {
          "name": "stdout",
          "output_type": "stream",
          "text": [
            "Model: \"sequential\"\n",
            "_________________________________________________________________\n",
            " Layer (type)                Output Shape              Param #   \n",
            "=================================================================\n",
            " dense (Dense)               (None, 64)                50240     \n",
            "                                                                 \n",
            " dense_1 (Dense)             (None, 10)                650       \n",
            "                                                                 \n",
            "=================================================================\n",
            "Total params: 50890 (198.79 KB)\n",
            "Trainable params: 50890 (198.79 KB)\n",
            "Non-trainable params: 0 (0.00 Byte)\n",
            "_________________________________________________________________\n"
          ]
        }
      ],
      "source": [
        "model.summary()"
      ]
    },
    {
      "cell_type": "code",
      "execution_count": 24,
      "metadata": {
        "colab": {
          "base_uri": "https://localhost:8080/"
        },
        "id": "HjaiTp-o6_a-",
        "outputId": "6248d403-06ee-4988-8815-4c84d77cd496"
      },
      "outputs": [
        {
          "data": {
            "text/plain": [
              "50176"
            ]
          },
          "execution_count": 24,
          "metadata": {},
          "output_type": "execute_result"
        }
      ],
      "source": [
        "(64*784) #64 neurons in 1st hidden layer, 784 inputs"
      ]
    },
    {
      "cell_type": "code",
      "execution_count": 25,
      "metadata": {
        "colab": {
          "base_uri": "https://localhost:8080/"
        },
        "id": "QTkzxbRA6_a-",
        "outputId": "78558e7c-b5d4-40b6-8c50-93e5c8f95d2b"
      },
      "outputs": [
        {
          "data": {
            "text/plain": [
              "50240"
            ]
          },
          "execution_count": 25,
          "metadata": {},
          "output_type": "execute_result"
        }
      ],
      "source": [
        "(64*784)+64 #64 neurons, 784 inputs, 64 biases"
      ]
    },
    {
      "cell_type": "code",
      "execution_count": 26,
      "metadata": {
        "colab": {
          "base_uri": "https://localhost:8080/"
        },
        "id": "jii4lIqT6_a-",
        "outputId": "d9f21530-fb53-4d40-c539-0c71cc6a8f19"
      },
      "outputs": [
        {
          "data": {
            "text/plain": [
              "650"
            ]
          },
          "execution_count": 26,
          "metadata": {},
          "output_type": "execute_result"
        }
      ],
      "source": [
        "(10*64)+10 #10 neurons, 64 inputs(from the 64 neurons in previous layers), 10 biases in output layer"
      ]
    },
    {
      "cell_type": "markdown",
      "metadata": {
        "id": "2TSjHfhi6_a-"
      },
      "source": [
        "#### Configure model"
      ]
    },
    {
      "cell_type": "code",
      "execution_count": 27,
      "metadata": {
        "id": "aT02wHcd6_a-"
      },
      "outputs": [],
      "source": [
        "model.compile(loss='mean_squared_error', optimizer=SGD(learning_rate=0.01), metrics=['accuracy'])"
      ]
    },
    {
      "cell_type": "markdown",
      "metadata": {
        "id": "hF4I2Zou6_a-"
      },
      "source": [
        "#### Train!"
      ]
    },
    {
      "cell_type": "code",
      "execution_count": 28,
      "metadata": {
        "colab": {
          "base_uri": "https://localhost:8080/"
        },
        "id": "DRWqGssx6_a_",
        "outputId": "163ec0a0-bbc4-4853-8f0b-d174827944e9"
      },
      "outputs": [
        {
          "name": "stdout",
          "output_type": "stream",
          "text": [
            "Epoch 1/200\n",
            "469/469 [==============================] - 2s 2ms/step - loss: 0.0937 - accuracy: 0.1426 - val_loss: 0.0927 - val_accuracy: 0.1797\n",
            "Epoch 2/200\n",
            "469/469 [==============================] - 1s 2ms/step - loss: 0.0919 - accuracy: 0.1974 - val_loss: 0.0913 - val_accuracy: 0.2189\n",
            "Epoch 3/200\n",
            "469/469 [==============================] - 1s 2ms/step - loss: 0.0909 - accuracy: 0.2301 - val_loss: 0.0905 - val_accuracy: 0.2464\n",
            "Epoch 4/200\n",
            "469/469 [==============================] - 1s 2ms/step - loss: 0.0901 - accuracy: 0.2535 - val_loss: 0.0898 - val_accuracy: 0.2654\n",
            "Epoch 5/200\n",
            "469/469 [==============================] - 1s 2ms/step - loss: 0.0896 - accuracy: 0.2663 - val_loss: 0.0893 - val_accuracy: 0.2752\n",
            "Epoch 6/200\n",
            "469/469 [==============================] - 1s 2ms/step - loss: 0.0891 - accuracy: 0.2758 - val_loss: 0.0889 - val_accuracy: 0.2829\n",
            "Epoch 7/200\n",
            "469/469 [==============================] - 1s 2ms/step - loss: 0.0887 - accuracy: 0.2876 - val_loss: 0.0885 - val_accuracy: 0.2994\n",
            "Epoch 8/200\n",
            "469/469 [==============================] - 1s 2ms/step - loss: 0.0883 - accuracy: 0.3036 - val_loss: 0.0881 - val_accuracy: 0.3178\n",
            "Epoch 9/200\n",
            "469/469 [==============================] - 1s 2ms/step - loss: 0.0880 - accuracy: 0.3235 - val_loss: 0.0877 - val_accuracy: 0.3409\n",
            "Epoch 10/200\n",
            "469/469 [==============================] - 1s 2ms/step - loss: 0.0876 - accuracy: 0.3443 - val_loss: 0.0874 - val_accuracy: 0.3647\n",
            "Epoch 11/200\n",
            "469/469 [==============================] - 1s 2ms/step - loss: 0.0873 - accuracy: 0.3651 - val_loss: 0.0870 - val_accuracy: 0.3864\n",
            "Epoch 12/200\n",
            "469/469 [==============================] - 1s 2ms/step - loss: 0.0869 - accuracy: 0.3868 - val_loss: 0.0867 - val_accuracy: 0.4031\n",
            "Epoch 13/200\n",
            "469/469 [==============================] - 1s 2ms/step - loss: 0.0866 - accuracy: 0.4030 - val_loss: 0.0863 - val_accuracy: 0.4186\n",
            "Epoch 14/200\n",
            "469/469 [==============================] - 1s 2ms/step - loss: 0.0863 - accuracy: 0.4196 - val_loss: 0.0860 - val_accuracy: 0.4346\n",
            "Epoch 15/200\n",
            "469/469 [==============================] - 1s 2ms/step - loss: 0.0859 - accuracy: 0.4335 - val_loss: 0.0856 - val_accuracy: 0.4481\n",
            "Epoch 16/200\n",
            "469/469 [==============================] - 1s 2ms/step - loss: 0.0855 - accuracy: 0.4448 - val_loss: 0.0853 - val_accuracy: 0.4554\n",
            "Epoch 17/200\n",
            "469/469 [==============================] - 1s 2ms/step - loss: 0.0852 - accuracy: 0.4545 - val_loss: 0.0849 - val_accuracy: 0.4623\n",
            "Epoch 18/200\n",
            "469/469 [==============================] - 1s 2ms/step - loss: 0.0848 - accuracy: 0.4614 - val_loss: 0.0845 - val_accuracy: 0.4679\n",
            "Epoch 19/200\n",
            "469/469 [==============================] - 1s 2ms/step - loss: 0.0844 - accuracy: 0.4662 - val_loss: 0.0841 - val_accuracy: 0.4723\n",
            "Epoch 20/200\n",
            "469/469 [==============================] - 1s 2ms/step - loss: 0.0840 - accuracy: 0.4694 - val_loss: 0.0837 - val_accuracy: 0.4761\n",
            "Epoch 21/200\n",
            "469/469 [==============================] - 1s 2ms/step - loss: 0.0836 - accuracy: 0.4721 - val_loss: 0.0833 - val_accuracy: 0.4779\n",
            "Epoch 22/200\n",
            "469/469 [==============================] - 1s 2ms/step - loss: 0.0832 - accuracy: 0.4725 - val_loss: 0.0829 - val_accuracy: 0.4796\n",
            "Epoch 23/200\n",
            "469/469 [==============================] - 1s 2ms/step - loss: 0.0828 - accuracy: 0.4739 - val_loss: 0.0824 - val_accuracy: 0.4800\n",
            "Epoch 24/200\n",
            "469/469 [==============================] - 1s 2ms/step - loss: 0.0824 - accuracy: 0.4753 - val_loss: 0.0820 - val_accuracy: 0.4819\n",
            "Epoch 25/200\n",
            "469/469 [==============================] - 1s 2ms/step - loss: 0.0819 - accuracy: 0.4767 - val_loss: 0.0815 - val_accuracy: 0.4839\n",
            "Epoch 26/200\n",
            "469/469 [==============================] - 1s 2ms/step - loss: 0.0815 - accuracy: 0.4777 - val_loss: 0.0811 - val_accuracy: 0.4846\n",
            "Epoch 27/200\n",
            "469/469 [==============================] - 1s 2ms/step - loss: 0.0810 - accuracy: 0.4788 - val_loss: 0.0806 - val_accuracy: 0.4857\n",
            "Epoch 28/200\n",
            "469/469 [==============================] - 1s 2ms/step - loss: 0.0806 - accuracy: 0.4795 - val_loss: 0.0801 - val_accuracy: 0.4879\n",
            "Epoch 29/200\n",
            "469/469 [==============================] - 1s 2ms/step - loss: 0.0801 - accuracy: 0.4808 - val_loss: 0.0796 - val_accuracy: 0.4887\n",
            "Epoch 30/200\n",
            "469/469 [==============================] - 1s 2ms/step - loss: 0.0796 - accuracy: 0.4829 - val_loss: 0.0792 - val_accuracy: 0.4899\n",
            "Epoch 31/200\n",
            "469/469 [==============================] - 1s 2ms/step - loss: 0.0791 - accuracy: 0.4845 - val_loss: 0.0786 - val_accuracy: 0.4910\n",
            "Epoch 32/200\n",
            "469/469 [==============================] - 1s 2ms/step - loss: 0.0786 - accuracy: 0.4863 - val_loss: 0.0781 - val_accuracy: 0.4928\n",
            "Epoch 33/200\n",
            "469/469 [==============================] - 1s 2ms/step - loss: 0.0781 - accuracy: 0.4877 - val_loss: 0.0776 - val_accuracy: 0.4954\n",
            "Epoch 34/200\n",
            "469/469 [==============================] - 1s 2ms/step - loss: 0.0776 - accuracy: 0.4897 - val_loss: 0.0771 - val_accuracy: 0.4979\n",
            "Epoch 35/200\n",
            "469/469 [==============================] - 1s 2ms/step - loss: 0.0771 - accuracy: 0.4917 - val_loss: 0.0766 - val_accuracy: 0.4988\n",
            "Epoch 36/200\n",
            "469/469 [==============================] - 1s 2ms/step - loss: 0.0766 - accuracy: 0.4941 - val_loss: 0.0760 - val_accuracy: 0.5019\n",
            "Epoch 37/200\n",
            "469/469 [==============================] - 1s 2ms/step - loss: 0.0760 - accuracy: 0.4963 - val_loss: 0.0755 - val_accuracy: 0.5046\n",
            "Epoch 38/200\n",
            "469/469 [==============================] - 1s 2ms/step - loss: 0.0755 - accuracy: 0.4983 - val_loss: 0.0750 - val_accuracy: 0.5071\n",
            "Epoch 39/200\n",
            "469/469 [==============================] - 1s 2ms/step - loss: 0.0750 - accuracy: 0.5012 - val_loss: 0.0744 - val_accuracy: 0.5091\n",
            "Epoch 40/200\n",
            "469/469 [==============================] - 1s 2ms/step - loss: 0.0745 - accuracy: 0.5033 - val_loss: 0.0739 - val_accuracy: 0.5108\n",
            "Epoch 41/200\n",
            "469/469 [==============================] - 1s 2ms/step - loss: 0.0739 - accuracy: 0.5058 - val_loss: 0.0734 - val_accuracy: 0.5129\n",
            "Epoch 42/200\n",
            "469/469 [==============================] - 1s 2ms/step - loss: 0.0734 - accuracy: 0.5082 - val_loss: 0.0728 - val_accuracy: 0.5159\n",
            "Epoch 43/200\n",
            "469/469 [==============================] - 1s 2ms/step - loss: 0.0729 - accuracy: 0.5105 - val_loss: 0.0723 - val_accuracy: 0.5178\n",
            "Epoch 44/200\n",
            "469/469 [==============================] - 1s 2ms/step - loss: 0.0723 - accuracy: 0.5132 - val_loss: 0.0718 - val_accuracy: 0.5208\n",
            "Epoch 45/200\n",
            "469/469 [==============================] - 1s 2ms/step - loss: 0.0718 - accuracy: 0.5157 - val_loss: 0.0712 - val_accuracy: 0.5221\n",
            "Epoch 46/200\n",
            "469/469 [==============================] - 1s 2ms/step - loss: 0.0713 - accuracy: 0.5187 - val_loss: 0.0707 - val_accuracy: 0.5250\n",
            "Epoch 47/200\n",
            "469/469 [==============================] - 1s 2ms/step - loss: 0.0708 - accuracy: 0.5209 - val_loss: 0.0702 - val_accuracy: 0.5278\n",
            "Epoch 48/200\n",
            "469/469 [==============================] - 1s 2ms/step - loss: 0.0703 - accuracy: 0.5234 - val_loss: 0.0697 - val_accuracy: 0.5316\n",
            "Epoch 49/200\n",
            "469/469 [==============================] - 1s 2ms/step - loss: 0.0697 - accuracy: 0.5264 - val_loss: 0.0692 - val_accuracy: 0.5335\n",
            "Epoch 50/200\n",
            "469/469 [==============================] - 1s 2ms/step - loss: 0.0692 - accuracy: 0.5295 - val_loss: 0.0686 - val_accuracy: 0.5353\n",
            "Epoch 51/200\n",
            "469/469 [==============================] - 1s 2ms/step - loss: 0.0687 - accuracy: 0.5325 - val_loss: 0.0681 - val_accuracy: 0.5384\n",
            "Epoch 52/200\n",
            "469/469 [==============================] - 1s 2ms/step - loss: 0.0682 - accuracy: 0.5357 - val_loss: 0.0676 - val_accuracy: 0.5410\n",
            "Epoch 53/200\n",
            "469/469 [==============================] - 1s 2ms/step - loss: 0.0677 - accuracy: 0.5392 - val_loss: 0.0671 - val_accuracy: 0.5441\n",
            "Epoch 54/200\n",
            "469/469 [==============================] - 1s 2ms/step - loss: 0.0672 - accuracy: 0.5433 - val_loss: 0.0666 - val_accuracy: 0.5480\n",
            "Epoch 55/200\n",
            "469/469 [==============================] - 1s 2ms/step - loss: 0.0667 - accuracy: 0.5471 - val_loss: 0.0661 - val_accuracy: 0.5513\n",
            "Epoch 56/200\n",
            "469/469 [==============================] - 1s 2ms/step - loss: 0.0662 - accuracy: 0.5511 - val_loss: 0.0656 - val_accuracy: 0.5559\n",
            "Epoch 57/200\n",
            "469/469 [==============================] - 1s 2ms/step - loss: 0.0658 - accuracy: 0.5556 - val_loss: 0.0651 - val_accuracy: 0.5607\n",
            "Epoch 58/200\n",
            "469/469 [==============================] - 1s 2ms/step - loss: 0.0653 - accuracy: 0.5611 - val_loss: 0.0646 - val_accuracy: 0.5636\n",
            "Epoch 59/200\n",
            "469/469 [==============================] - 1s 2ms/step - loss: 0.0648 - accuracy: 0.5665 - val_loss: 0.0641 - val_accuracy: 0.5688\n",
            "Epoch 60/200\n",
            "469/469 [==============================] - 1s 2ms/step - loss: 0.0643 - accuracy: 0.5724 - val_loss: 0.0637 - val_accuracy: 0.5748\n",
            "Epoch 61/200\n",
            "469/469 [==============================] - 1s 2ms/step - loss: 0.0638 - accuracy: 0.5782 - val_loss: 0.0632 - val_accuracy: 0.5806\n",
            "Epoch 62/200\n",
            "469/469 [==============================] - 1s 2ms/step - loss: 0.0634 - accuracy: 0.5843 - val_loss: 0.0627 - val_accuracy: 0.5861\n",
            "Epoch 63/200\n",
            "469/469 [==============================] - 1s 2ms/step - loss: 0.0629 - accuracy: 0.5904 - val_loss: 0.0622 - val_accuracy: 0.5925\n",
            "Epoch 64/200\n",
            "469/469 [==============================] - 1s 2ms/step - loss: 0.0624 - accuracy: 0.5958 - val_loss: 0.0618 - val_accuracy: 0.5997\n",
            "Epoch 65/200\n",
            "469/469 [==============================] - 1s 2ms/step - loss: 0.0620 - accuracy: 0.6016 - val_loss: 0.0613 - val_accuracy: 0.6060\n",
            "Epoch 66/200\n",
            "469/469 [==============================] - 1s 2ms/step - loss: 0.0615 - accuracy: 0.6083 - val_loss: 0.0609 - val_accuracy: 0.6116\n",
            "Epoch 67/200\n",
            "469/469 [==============================] - 1s 2ms/step - loss: 0.0611 - accuracy: 0.6135 - val_loss: 0.0604 - val_accuracy: 0.6168\n",
            "Epoch 68/200\n",
            "469/469 [==============================] - 1s 2ms/step - loss: 0.0606 - accuracy: 0.6194 - val_loss: 0.0599 - val_accuracy: 0.6220\n",
            "Epoch 69/200\n",
            "469/469 [==============================] - 1s 2ms/step - loss: 0.0602 - accuracy: 0.6255 - val_loss: 0.0595 - val_accuracy: 0.6282\n",
            "Epoch 70/200\n",
            "469/469 [==============================] - 1s 2ms/step - loss: 0.0597 - accuracy: 0.6305 - val_loss: 0.0590 - val_accuracy: 0.6345\n",
            "Epoch 71/200\n",
            "469/469 [==============================] - 1s 2ms/step - loss: 0.0593 - accuracy: 0.6363 - val_loss: 0.0586 - val_accuracy: 0.6396\n",
            "Epoch 72/200\n",
            "469/469 [==============================] - 1s 2ms/step - loss: 0.0588 - accuracy: 0.6420 - val_loss: 0.0581 - val_accuracy: 0.6456\n",
            "Epoch 73/200\n",
            "469/469 [==============================] - 1s 2ms/step - loss: 0.0584 - accuracy: 0.6470 - val_loss: 0.0577 - val_accuracy: 0.6516\n",
            "Epoch 74/200\n",
            "469/469 [==============================] - 1s 2ms/step - loss: 0.0580 - accuracy: 0.6524 - val_loss: 0.0573 - val_accuracy: 0.6567\n",
            "Epoch 75/200\n",
            "469/469 [==============================] - 1s 2ms/step - loss: 0.0575 - accuracy: 0.6570 - val_loss: 0.0568 - val_accuracy: 0.6615\n",
            "Epoch 76/200\n",
            "469/469 [==============================] - 1s 2ms/step - loss: 0.0571 - accuracy: 0.6617 - val_loss: 0.0564 - val_accuracy: 0.6669\n",
            "Epoch 77/200\n",
            "469/469 [==============================] - 1s 2ms/step - loss: 0.0567 - accuracy: 0.6664 - val_loss: 0.0560 - val_accuracy: 0.6716\n",
            "Epoch 78/200\n",
            "469/469 [==============================] - 1s 2ms/step - loss: 0.0563 - accuracy: 0.6710 - val_loss: 0.0555 - val_accuracy: 0.6771\n",
            "Epoch 79/200\n",
            "469/469 [==============================] - 1s 2ms/step - loss: 0.0558 - accuracy: 0.6751 - val_loss: 0.0551 - val_accuracy: 0.6815\n",
            "Epoch 80/200\n",
            "469/469 [==============================] - 1s 2ms/step - loss: 0.0554 - accuracy: 0.6794 - val_loss: 0.0547 - val_accuracy: 0.6855\n",
            "Epoch 81/200\n",
            "469/469 [==============================] - 1s 2ms/step - loss: 0.0550 - accuracy: 0.6830 - val_loss: 0.0543 - val_accuracy: 0.6909\n",
            "Epoch 82/200\n",
            "469/469 [==============================] - 1s 2ms/step - loss: 0.0546 - accuracy: 0.6867 - val_loss: 0.0538 - val_accuracy: 0.6944\n",
            "Epoch 83/200\n",
            "469/469 [==============================] - 1s 2ms/step - loss: 0.0542 - accuracy: 0.6904 - val_loss: 0.0534 - val_accuracy: 0.6989\n",
            "Epoch 84/200\n",
            "469/469 [==============================] - 1s 2ms/step - loss: 0.0538 - accuracy: 0.6945 - val_loss: 0.0530 - val_accuracy: 0.7039\n",
            "Epoch 85/200\n",
            "469/469 [==============================] - 1s 2ms/step - loss: 0.0534 - accuracy: 0.6984 - val_loss: 0.0526 - val_accuracy: 0.7073\n",
            "Epoch 86/200\n",
            "469/469 [==============================] - 1s 3ms/step - loss: 0.0530 - accuracy: 0.7018 - val_loss: 0.0522 - val_accuracy: 0.7099\n",
            "Epoch 87/200\n",
            "469/469 [==============================] - 1s 2ms/step - loss: 0.0526 - accuracy: 0.7053 - val_loss: 0.0518 - val_accuracy: 0.7130\n",
            "Epoch 88/200\n",
            "469/469 [==============================] - 1s 3ms/step - loss: 0.0522 - accuracy: 0.7083 - val_loss: 0.0514 - val_accuracy: 0.7170\n",
            "Epoch 89/200\n",
            "469/469 [==============================] - 1s 3ms/step - loss: 0.0518 - accuracy: 0.7119 - val_loss: 0.0510 - val_accuracy: 0.7194\n",
            "Epoch 90/200\n",
            "469/469 [==============================] - 1s 2ms/step - loss: 0.0514 - accuracy: 0.7153 - val_loss: 0.0506 - val_accuracy: 0.7230\n",
            "Epoch 91/200\n",
            "469/469 [==============================] - 1s 2ms/step - loss: 0.0510 - accuracy: 0.7183 - val_loss: 0.0502 - val_accuracy: 0.7260\n",
            "Epoch 92/200\n",
            "469/469 [==============================] - 1s 3ms/step - loss: 0.0506 - accuracy: 0.7212 - val_loss: 0.0499 - val_accuracy: 0.7284\n",
            "Epoch 93/200\n",
            "469/469 [==============================] - 1s 3ms/step - loss: 0.0503 - accuracy: 0.7237 - val_loss: 0.0495 - val_accuracy: 0.7319\n",
            "Epoch 94/200\n",
            "469/469 [==============================] - 1s 2ms/step - loss: 0.0499 - accuracy: 0.7266 - val_loss: 0.0491 - val_accuracy: 0.7347\n",
            "Epoch 95/200\n",
            "469/469 [==============================] - 1s 3ms/step - loss: 0.0495 - accuracy: 0.7293 - val_loss: 0.0487 - val_accuracy: 0.7368\n",
            "Epoch 96/200\n",
            "469/469 [==============================] - 1s 3ms/step - loss: 0.0492 - accuracy: 0.7319 - val_loss: 0.0484 - val_accuracy: 0.7402\n",
            "Epoch 97/200\n",
            "469/469 [==============================] - 1s 3ms/step - loss: 0.0488 - accuracy: 0.7338 - val_loss: 0.0480 - val_accuracy: 0.7429\n",
            "Epoch 98/200\n",
            "469/469 [==============================] - 1s 3ms/step - loss: 0.0485 - accuracy: 0.7363 - val_loss: 0.0477 - val_accuracy: 0.7457\n",
            "Epoch 99/200\n",
            "469/469 [==============================] - 1s 3ms/step - loss: 0.0481 - accuracy: 0.7391 - val_loss: 0.0473 - val_accuracy: 0.7483\n",
            "Epoch 100/200\n",
            "469/469 [==============================] - 1s 2ms/step - loss: 0.0478 - accuracy: 0.7407 - val_loss: 0.0470 - val_accuracy: 0.7502\n",
            "Epoch 101/200\n",
            "469/469 [==============================] - 1s 3ms/step - loss: 0.0475 - accuracy: 0.7426 - val_loss: 0.0466 - val_accuracy: 0.7514\n",
            "Epoch 102/200\n",
            "469/469 [==============================] - 1s 2ms/step - loss: 0.0471 - accuracy: 0.7448 - val_loss: 0.0463 - val_accuracy: 0.7538\n",
            "Epoch 103/200\n",
            "469/469 [==============================] - 1s 3ms/step - loss: 0.0468 - accuracy: 0.7470 - val_loss: 0.0460 - val_accuracy: 0.7559\n",
            "Epoch 104/200\n",
            "469/469 [==============================] - 1s 3ms/step - loss: 0.0465 - accuracy: 0.7486 - val_loss: 0.0456 - val_accuracy: 0.7586\n",
            "Epoch 105/200\n",
            "469/469 [==============================] - 1s 2ms/step - loss: 0.0462 - accuracy: 0.7504 - val_loss: 0.0453 - val_accuracy: 0.7601\n",
            "Epoch 106/200\n",
            "469/469 [==============================] - 1s 3ms/step - loss: 0.0458 - accuracy: 0.7520 - val_loss: 0.0450 - val_accuracy: 0.7623\n",
            "Epoch 107/200\n",
            "469/469 [==============================] - 1s 3ms/step - loss: 0.0455 - accuracy: 0.7536 - val_loss: 0.0447 - val_accuracy: 0.7631\n",
            "Epoch 108/200\n",
            "469/469 [==============================] - 1s 2ms/step - loss: 0.0452 - accuracy: 0.7553 - val_loss: 0.0444 - val_accuracy: 0.7638\n",
            "Epoch 109/200\n",
            "469/469 [==============================] - 1s 3ms/step - loss: 0.0449 - accuracy: 0.7567 - val_loss: 0.0441 - val_accuracy: 0.7649\n",
            "Epoch 110/200\n",
            "469/469 [==============================] - 1s 2ms/step - loss: 0.0446 - accuracy: 0.7587 - val_loss: 0.0438 - val_accuracy: 0.7667\n",
            "Epoch 111/200\n",
            "469/469 [==============================] - 1s 3ms/step - loss: 0.0443 - accuracy: 0.7597 - val_loss: 0.0435 - val_accuracy: 0.7680\n",
            "Epoch 112/200\n",
            "469/469 [==============================] - 1s 3ms/step - loss: 0.0440 - accuracy: 0.7610 - val_loss: 0.0432 - val_accuracy: 0.7693\n",
            "Epoch 113/200\n",
            "469/469 [==============================] - 1s 3ms/step - loss: 0.0438 - accuracy: 0.7621 - val_loss: 0.0429 - val_accuracy: 0.7701\n",
            "Epoch 114/200\n",
            "469/469 [==============================] - 1s 3ms/step - loss: 0.0435 - accuracy: 0.7631 - val_loss: 0.0426 - val_accuracy: 0.7716\n",
            "Epoch 115/200\n",
            "469/469 [==============================] - 1s 2ms/step - loss: 0.0432 - accuracy: 0.7643 - val_loss: 0.0423 - val_accuracy: 0.7721\n",
            "Epoch 116/200\n",
            "469/469 [==============================] - 1s 2ms/step - loss: 0.0429 - accuracy: 0.7655 - val_loss: 0.0421 - val_accuracy: 0.7731\n",
            "Epoch 117/200\n",
            "469/469 [==============================] - 1s 2ms/step - loss: 0.0427 - accuracy: 0.7663 - val_loss: 0.0418 - val_accuracy: 0.7750\n",
            "Epoch 118/200\n",
            "469/469 [==============================] - 1s 2ms/step - loss: 0.0424 - accuracy: 0.7673 - val_loss: 0.0415 - val_accuracy: 0.7762\n",
            "Epoch 119/200\n",
            "469/469 [==============================] - 1s 2ms/step - loss: 0.0421 - accuracy: 0.7681 - val_loss: 0.0412 - val_accuracy: 0.7771\n",
            "Epoch 120/200\n",
            "469/469 [==============================] - 1s 2ms/step - loss: 0.0419 - accuracy: 0.7692 - val_loss: 0.0410 - val_accuracy: 0.7778\n",
            "Epoch 121/200\n",
            "469/469 [==============================] - 1s 2ms/step - loss: 0.0416 - accuracy: 0.7702 - val_loss: 0.0407 - val_accuracy: 0.7784\n",
            "Epoch 122/200\n",
            "469/469 [==============================] - 1s 2ms/step - loss: 0.0414 - accuracy: 0.7710 - val_loss: 0.0405 - val_accuracy: 0.7796\n",
            "Epoch 123/200\n",
            "469/469 [==============================] - 1s 2ms/step - loss: 0.0411 - accuracy: 0.7716 - val_loss: 0.0402 - val_accuracy: 0.7806\n",
            "Epoch 124/200\n",
            "469/469 [==============================] - 1s 2ms/step - loss: 0.0409 - accuracy: 0.7724 - val_loss: 0.0400 - val_accuracy: 0.7821\n",
            "Epoch 125/200\n",
            "469/469 [==============================] - 1s 2ms/step - loss: 0.0406 - accuracy: 0.7732 - val_loss: 0.0397 - val_accuracy: 0.7831\n",
            "Epoch 126/200\n",
            "469/469 [==============================] - 1s 2ms/step - loss: 0.0404 - accuracy: 0.7739 - val_loss: 0.0395 - val_accuracy: 0.7840\n",
            "Epoch 127/200\n",
            "469/469 [==============================] - 1s 2ms/step - loss: 0.0401 - accuracy: 0.7745 - val_loss: 0.0392 - val_accuracy: 0.7851\n",
            "Epoch 128/200\n",
            "469/469 [==============================] - 1s 2ms/step - loss: 0.0399 - accuracy: 0.7757 - val_loss: 0.0390 - val_accuracy: 0.7856\n",
            "Epoch 129/200\n",
            "469/469 [==============================] - 1s 2ms/step - loss: 0.0397 - accuracy: 0.7764 - val_loss: 0.0388 - val_accuracy: 0.7866\n",
            "Epoch 130/200\n",
            "469/469 [==============================] - 1s 2ms/step - loss: 0.0394 - accuracy: 0.7776 - val_loss: 0.0385 - val_accuracy: 0.7876\n",
            "Epoch 131/200\n",
            "469/469 [==============================] - 1s 2ms/step - loss: 0.0392 - accuracy: 0.7785 - val_loss: 0.0383 - val_accuracy: 0.7885\n",
            "Epoch 132/200\n",
            "469/469 [==============================] - 1s 2ms/step - loss: 0.0390 - accuracy: 0.7797 - val_loss: 0.0381 - val_accuracy: 0.7896\n",
            "Epoch 133/200\n",
            "469/469 [==============================] - 1s 2ms/step - loss: 0.0388 - accuracy: 0.7807 - val_loss: 0.0378 - val_accuracy: 0.7911\n",
            "Epoch 134/200\n",
            "469/469 [==============================] - 1s 2ms/step - loss: 0.0385 - accuracy: 0.7821 - val_loss: 0.0376 - val_accuracy: 0.7927\n",
            "Epoch 135/200\n",
            "469/469 [==============================] - 1s 2ms/step - loss: 0.0383 - accuracy: 0.7835 - val_loss: 0.0374 - val_accuracy: 0.7951\n",
            "Epoch 136/200\n",
            "469/469 [==============================] - 1s 2ms/step - loss: 0.0381 - accuracy: 0.7849 - val_loss: 0.0372 - val_accuracy: 0.7957\n",
            "Epoch 137/200\n",
            "469/469 [==============================] - 1s 2ms/step - loss: 0.0379 - accuracy: 0.7864 - val_loss: 0.0370 - val_accuracy: 0.7972\n",
            "Epoch 138/200\n",
            "469/469 [==============================] - 1s 2ms/step - loss: 0.0377 - accuracy: 0.7878 - val_loss: 0.0368 - val_accuracy: 0.7990\n",
            "Epoch 139/200\n",
            "469/469 [==============================] - 1s 2ms/step - loss: 0.0375 - accuracy: 0.7895 - val_loss: 0.0365 - val_accuracy: 0.8006\n",
            "Epoch 140/200\n",
            "469/469 [==============================] - 1s 2ms/step - loss: 0.0373 - accuracy: 0.7909 - val_loss: 0.0363 - val_accuracy: 0.8018\n",
            "Epoch 141/200\n",
            "469/469 [==============================] - 1s 2ms/step - loss: 0.0371 - accuracy: 0.7924 - val_loss: 0.0361 - val_accuracy: 0.8037\n",
            "Epoch 142/200\n",
            "469/469 [==============================] - 1s 2ms/step - loss: 0.0369 - accuracy: 0.7943 - val_loss: 0.0359 - val_accuracy: 0.8053\n",
            "Epoch 143/200\n",
            "469/469 [==============================] - 1s 2ms/step - loss: 0.0367 - accuracy: 0.7959 - val_loss: 0.0357 - val_accuracy: 0.8070\n",
            "Epoch 144/200\n",
            "469/469 [==============================] - 1s 2ms/step - loss: 0.0365 - accuracy: 0.7980 - val_loss: 0.0355 - val_accuracy: 0.8088\n",
            "Epoch 145/200\n",
            "469/469 [==============================] - 1s 2ms/step - loss: 0.0363 - accuracy: 0.7997 - val_loss: 0.0353 - val_accuracy: 0.8101\n",
            "Epoch 146/200\n",
            "469/469 [==============================] - 1s 2ms/step - loss: 0.0361 - accuracy: 0.8017 - val_loss: 0.0351 - val_accuracy: 0.8116\n",
            "Epoch 147/200\n",
            "469/469 [==============================] - 1s 2ms/step - loss: 0.0359 - accuracy: 0.8035 - val_loss: 0.0349 - val_accuracy: 0.8136\n",
            "Epoch 148/200\n",
            "469/469 [==============================] - 1s 2ms/step - loss: 0.0357 - accuracy: 0.8053 - val_loss: 0.0348 - val_accuracy: 0.8160\n",
            "Epoch 149/200\n",
            "469/469 [==============================] - 1s 2ms/step - loss: 0.0355 - accuracy: 0.8070 - val_loss: 0.0346 - val_accuracy: 0.8178\n",
            "Epoch 150/200\n",
            "469/469 [==============================] - 1s 2ms/step - loss: 0.0353 - accuracy: 0.8085 - val_loss: 0.0344 - val_accuracy: 0.8193\n",
            "Epoch 151/200\n",
            "469/469 [==============================] - 1s 2ms/step - loss: 0.0352 - accuracy: 0.8098 - val_loss: 0.0342 - val_accuracy: 0.8211\n",
            "Epoch 152/200\n",
            "469/469 [==============================] - 1s 2ms/step - loss: 0.0350 - accuracy: 0.8118 - val_loss: 0.0340 - val_accuracy: 0.8225\n",
            "Epoch 153/200\n",
            "469/469 [==============================] - 1s 2ms/step - loss: 0.0348 - accuracy: 0.8136 - val_loss: 0.0338 - val_accuracy: 0.8245\n",
            "Epoch 154/200\n",
            "469/469 [==============================] - 1s 2ms/step - loss: 0.0346 - accuracy: 0.8149 - val_loss: 0.0337 - val_accuracy: 0.8261\n",
            "Epoch 155/200\n",
            "469/469 [==============================] - 1s 2ms/step - loss: 0.0344 - accuracy: 0.8163 - val_loss: 0.0335 - val_accuracy: 0.8276\n",
            "Epoch 156/200\n",
            "469/469 [==============================] - 1s 2ms/step - loss: 0.0343 - accuracy: 0.8177 - val_loss: 0.0333 - val_accuracy: 0.8289\n",
            "Epoch 157/200\n",
            "469/469 [==============================] - 1s 2ms/step - loss: 0.0341 - accuracy: 0.8192 - val_loss: 0.0331 - val_accuracy: 0.8307\n",
            "Epoch 158/200\n",
            "469/469 [==============================] - 1s 2ms/step - loss: 0.0339 - accuracy: 0.8203 - val_loss: 0.0330 - val_accuracy: 0.8322\n",
            "Epoch 159/200\n",
            "469/469 [==============================] - 1s 2ms/step - loss: 0.0338 - accuracy: 0.8216 - val_loss: 0.0328 - val_accuracy: 0.8337\n",
            "Epoch 160/200\n",
            "469/469 [==============================] - 1s 2ms/step - loss: 0.0336 - accuracy: 0.8227 - val_loss: 0.0326 - val_accuracy: 0.8346\n",
            "Epoch 161/200\n",
            "469/469 [==============================] - 1s 2ms/step - loss: 0.0334 - accuracy: 0.8241 - val_loss: 0.0325 - val_accuracy: 0.8358\n",
            "Epoch 162/200\n",
            "469/469 [==============================] - 1s 2ms/step - loss: 0.0333 - accuracy: 0.8253 - val_loss: 0.0323 - val_accuracy: 0.8370\n",
            "Epoch 163/200\n",
            "469/469 [==============================] - 1s 2ms/step - loss: 0.0331 - accuracy: 0.8263 - val_loss: 0.0321 - val_accuracy: 0.8377\n",
            "Epoch 164/200\n",
            "469/469 [==============================] - 1s 2ms/step - loss: 0.0330 - accuracy: 0.8273 - val_loss: 0.0320 - val_accuracy: 0.8386\n",
            "Epoch 165/200\n",
            "469/469 [==============================] - 1s 2ms/step - loss: 0.0328 - accuracy: 0.8285 - val_loss: 0.0318 - val_accuracy: 0.8396\n",
            "Epoch 166/200\n",
            "469/469 [==============================] - 1s 2ms/step - loss: 0.0326 - accuracy: 0.8298 - val_loss: 0.0317 - val_accuracy: 0.8405\n",
            "Epoch 167/200\n",
            "469/469 [==============================] - 1s 2ms/step - loss: 0.0325 - accuracy: 0.8310 - val_loss: 0.0315 - val_accuracy: 0.8414\n",
            "Epoch 168/200\n",
            "469/469 [==============================] - 2s 3ms/step - loss: 0.0323 - accuracy: 0.8319 - val_loss: 0.0314 - val_accuracy: 0.8425\n",
            "Epoch 169/200\n",
            "469/469 [==============================] - 1s 2ms/step - loss: 0.0322 - accuracy: 0.8329 - val_loss: 0.0312 - val_accuracy: 0.8437\n",
            "Epoch 170/200\n",
            "469/469 [==============================] - 1s 2ms/step - loss: 0.0320 - accuracy: 0.8335 - val_loss: 0.0311 - val_accuracy: 0.8441\n",
            "Epoch 171/200\n",
            "469/469 [==============================] - 1s 2ms/step - loss: 0.0319 - accuracy: 0.8346 - val_loss: 0.0309 - val_accuracy: 0.8450\n",
            "Epoch 172/200\n",
            "469/469 [==============================] - 1s 2ms/step - loss: 0.0317 - accuracy: 0.8357 - val_loss: 0.0308 - val_accuracy: 0.8459\n",
            "Epoch 173/200\n",
            "469/469 [==============================] - 1s 2ms/step - loss: 0.0316 - accuracy: 0.8367 - val_loss: 0.0306 - val_accuracy: 0.8467\n",
            "Epoch 174/200\n",
            "469/469 [==============================] - 1s 2ms/step - loss: 0.0315 - accuracy: 0.8374 - val_loss: 0.0305 - val_accuracy: 0.8481\n",
            "Epoch 175/200\n",
            "469/469 [==============================] - 1s 3ms/step - loss: 0.0313 - accuracy: 0.8384 - val_loss: 0.0303 - val_accuracy: 0.8490\n",
            "Epoch 176/200\n",
            "469/469 [==============================] - 1s 2ms/step - loss: 0.0312 - accuracy: 0.8393 - val_loss: 0.0302 - val_accuracy: 0.8497\n",
            "Epoch 177/200\n",
            "469/469 [==============================] - 1s 2ms/step - loss: 0.0310 - accuracy: 0.8400 - val_loss: 0.0301 - val_accuracy: 0.8503\n",
            "Epoch 178/200\n",
            "469/469 [==============================] - 1s 2ms/step - loss: 0.0309 - accuracy: 0.8407 - val_loss: 0.0299 - val_accuracy: 0.8508\n",
            "Epoch 179/200\n",
            "469/469 [==============================] - 1s 2ms/step - loss: 0.0308 - accuracy: 0.8413 - val_loss: 0.0298 - val_accuracy: 0.8510\n",
            "Epoch 180/200\n",
            "469/469 [==============================] - 1s 2ms/step - loss: 0.0306 - accuracy: 0.8421 - val_loss: 0.0297 - val_accuracy: 0.8516\n",
            "Epoch 181/200\n",
            "469/469 [==============================] - 1s 2ms/step - loss: 0.0305 - accuracy: 0.8428 - val_loss: 0.0295 - val_accuracy: 0.8524\n",
            "Epoch 182/200\n",
            "469/469 [==============================] - 1s 2ms/step - loss: 0.0304 - accuracy: 0.8436 - val_loss: 0.0294 - val_accuracy: 0.8531\n",
            "Epoch 183/200\n",
            "469/469 [==============================] - 1s 2ms/step - loss: 0.0303 - accuracy: 0.8442 - val_loss: 0.0293 - val_accuracy: 0.8536\n",
            "Epoch 184/200\n",
            "469/469 [==============================] - 1s 2ms/step - loss: 0.0301 - accuracy: 0.8446 - val_loss: 0.0291 - val_accuracy: 0.8548\n",
            "Epoch 185/200\n",
            "469/469 [==============================] - 1s 2ms/step - loss: 0.0300 - accuracy: 0.8453 - val_loss: 0.0290 - val_accuracy: 0.8555\n",
            "Epoch 186/200\n",
            "469/469 [==============================] - 1s 2ms/step - loss: 0.0299 - accuracy: 0.8457 - val_loss: 0.0289 - val_accuracy: 0.8567\n",
            "Epoch 187/200\n",
            "469/469 [==============================] - 1s 2ms/step - loss: 0.0298 - accuracy: 0.8465 - val_loss: 0.0288 - val_accuracy: 0.8571\n",
            "Epoch 188/200\n",
            "469/469 [==============================] - 1s 2ms/step - loss: 0.0296 - accuracy: 0.8472 - val_loss: 0.0286 - val_accuracy: 0.8579\n",
            "Epoch 189/200\n",
            "469/469 [==============================] - 1s 2ms/step - loss: 0.0295 - accuracy: 0.8477 - val_loss: 0.0285 - val_accuracy: 0.8585\n",
            "Epoch 190/200\n",
            "469/469 [==============================] - 1s 2ms/step - loss: 0.0294 - accuracy: 0.8486 - val_loss: 0.0284 - val_accuracy: 0.8593\n",
            "Epoch 191/200\n",
            "469/469 [==============================] - 1s 2ms/step - loss: 0.0293 - accuracy: 0.8492 - val_loss: 0.0283 - val_accuracy: 0.8601\n",
            "Epoch 192/200\n",
            "469/469 [==============================] - 1s 2ms/step - loss: 0.0292 - accuracy: 0.8496 - val_loss: 0.0282 - val_accuracy: 0.8603\n",
            "Epoch 193/200\n",
            "469/469 [==============================] - 1s 2ms/step - loss: 0.0290 - accuracy: 0.8505 - val_loss: 0.0280 - val_accuracy: 0.8606\n",
            "Epoch 194/200\n",
            "469/469 [==============================] - 1s 2ms/step - loss: 0.0289 - accuracy: 0.8509 - val_loss: 0.0279 - val_accuracy: 0.8607\n",
            "Epoch 195/200\n",
            "469/469 [==============================] - 1s 2ms/step - loss: 0.0288 - accuracy: 0.8513 - val_loss: 0.0278 - val_accuracy: 0.8613\n",
            "Epoch 196/200\n",
            "469/469 [==============================] - 1s 2ms/step - loss: 0.0287 - accuracy: 0.8515 - val_loss: 0.0277 - val_accuracy: 0.8624\n",
            "Epoch 197/200\n",
            "469/469 [==============================] - 1s 2ms/step - loss: 0.0286 - accuracy: 0.8522 - val_loss: 0.0276 - val_accuracy: 0.8632\n",
            "Epoch 198/200\n",
            "469/469 [==============================] - 1s 2ms/step - loss: 0.0285 - accuracy: 0.8527 - val_loss: 0.0275 - val_accuracy: 0.8634\n",
            "Epoch 199/200\n",
            "469/469 [==============================] - 1s 2ms/step - loss: 0.0284 - accuracy: 0.8533 - val_loss: 0.0274 - val_accuracy: 0.8633\n",
            "Epoch 200/200\n",
            "469/469 [==============================] - 1s 2ms/step - loss: 0.0283 - accuracy: 0.8540 - val_loss: 0.0273 - val_accuracy: 0.8640\n"
          ]
        },
        {
          "data": {
            "text/plain": [
              "<keras.src.callbacks.History at 0x232df1c5f10>"
            ]
          },
          "execution_count": 28,
          "metadata": {},
          "output_type": "execute_result"
        }
      ],
      "source": [
        "model.fit(X_train, y_train, batch_size=128, epochs=200, verbose=1, validation_data=(X_valid, y_valid))"
      ]
    },
    {
      "cell_type": "markdown",
      "metadata": {
        "id": "eFFJFRyv6_a_"
      },
      "source": [
        "#### Evaluating model performance"
      ]
    },
    {
      "cell_type": "code",
      "execution_count": 29,
      "metadata": {
        "colab": {
          "base_uri": "https://localhost:8080/"
        },
        "id": "Mi8oSUj06_a_",
        "outputId": "4d2dd5bf-8fbf-43b9-9445-884d2b0b22bf"
      },
      "outputs": [
        {
          "name": "stdout",
          "output_type": "stream",
          "text": [
            "313/313 [==============================] - 0s 1ms/step - loss: 0.0273 - accuracy: 0.8640\n"
          ]
        },
        {
          "data": {
            "text/plain": [
              "[0.027278197929263115, 0.8640000224113464]"
            ]
          },
          "execution_count": 29,
          "metadata": {},
          "output_type": "execute_result"
        }
      ],
      "source": [
        "model.evaluate(X_valid, y_valid)"
      ]
    },
    {
      "cell_type": "markdown",
      "metadata": {
        "id": "m5kN0zO56_a_"
      },
      "source": [
        "#### Performing inference"
      ]
    },
    {
      "cell_type": "code",
      "execution_count": 30,
      "metadata": {
        "id": "-i_2NQrm6_a_"
      },
      "outputs": [],
      "source": [
        "valid_0 = X_valid[0].reshape(1, 784) #validate the model on one digit"
      ]
    },
    {
      "cell_type": "code",
      "execution_count": 31,
      "metadata": {
        "colab": {
          "base_uri": "https://localhost:8080/"
        },
        "id": "1uDQLTJv6_a_",
        "outputId": "f924b84e-1c66-4420-e441-cd7e952fef42"
      },
      "outputs": [
        {
          "name": "stdout",
          "output_type": "stream",
          "text": [
            "1/1 [==============================] - 0s 73ms/step\n"
          ]
        },
        {
          "data": {
            "text/plain": [
              "array([[0.00435789, 0.00173818, 0.00270244, 0.00870994, 0.0049129 ,\n",
              "        0.00686297, 0.00093237, 0.9306542 , 0.0043848 , 0.03474437]],\n",
              "      dtype=float32)"
            ]
          },
          "execution_count": 31,
          "metadata": {},
          "output_type": "execute_result"
        }
      ],
      "source": [
        "model.predict(valid_0) #what does the model predict our input to be?"
      ]
    },
    {
      "cell_type": "code",
      "execution_count": 29,
      "metadata": {
        "id": "b2cxqZcL8k7C"
      },
      "outputs": [],
      "source": [
        "# model.predict_classes(valid_0)"
      ]
    },
    {
      "cell_type": "code",
      "execution_count": 32,
      "metadata": {
        "colab": {
          "base_uri": "https://localhost:8080/"
        },
        "id": "9UV84XMx6_a_",
        "outputId": "c5b7e7b4-81a8-465e-f8a9-e62e3fe02f60"
      },
      "outputs": [
        {
          "name": "stdout",
          "output_type": "stream",
          "text": [
            "1/1 [==============================] - 0s 22ms/step\n"
          ]
        },
        {
          "data": {
            "text/plain": [
              "array([7], dtype=int64)"
            ]
          },
          "execution_count": 32,
          "metadata": {},
          "output_type": "execute_result"
        }
      ],
      "source": [
        "# The predict_classes() method no longer exists in recent TensorFlow releases. \n",
        "# Instead you could use:\n",
        "import numpy as np\n",
        "np.argmax(model.predict(valid_0), axis=-1)"
      ]
    },
    {
      "cell_type": "markdown",
      "metadata": {},
      "source": [
        "#### perceptron model\n",
        "w.x+b > 0 output 1 else output 0 <br>\n",
        "w = weight <br>\n",
        "x = value <br>\n",
        "b = bias(negate threshold) <br>"
      ]
    },
    {
      "cell_type": "markdown",
      "metadata": {},
      "source": [
        "Perceptron model ain't got no finesse, its either silent or its screaminggg <br>\n",
        "\n",
        "#### Sigmoid Function (Activation Function), where range 0 to 1 is needed as output.\n",
        "Cool dude, curvy shape = sigma(z) = 1/1+e**-z z=w.x+b <br>\n",
        "\n",
        "Activation functions produce activations <br>\n",
        "\n",
        "Neuron saturation, when activation functions are stuck in the extreme's of z. <br>\n",
        "\n",
        "#### tanh similar to sigmoid (it goes from -1 to 1), help solve the neuron saturation problem.\n",
        "\n",
        "### RELU function = max(0,z), preferred neuron"
      ]
    },
    {
      "cell_type": "markdown",
      "metadata": {},
      "source": []
    }
  ],
  "metadata": {
    "colab": {
      "include_colab_link": true,
      "name": "shallow_net_in_tensorflow.ipynb",
      "provenance": []
    },
    "kernelspec": {
      "display_name": "Python 3",
      "language": "python",
      "name": "python3"
    },
    "language_info": {
      "codemirror_mode": {
        "name": "ipython",
        "version": 3
      },
      "file_extension": ".py",
      "mimetype": "text/x-python",
      "name": "python",
      "nbconvert_exporter": "python",
      "pygments_lexer": "ipython3",
      "version": "3.11.5"
    }
  },
  "nbformat": 4,
  "nbformat_minor": 0
}
